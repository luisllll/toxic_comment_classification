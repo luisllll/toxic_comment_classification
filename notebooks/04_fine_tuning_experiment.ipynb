{
 "cells": [
  {
   "cell_type": "markdown",
   "metadata": {},
   "source": [
    "# Fine-tuning Experiment: Baseline vs SUBTLE_TOXICITY\n",
    "\n",
    "This notebook tests the effectiveness of SUBTLE_TOXICITY tagging by fine-tuning models and comparing their performance.\n",
    "\n",
    "## Experiment Overview\n",
    "- **Phase 1**: Fine-tune baseline model (no tagging)\n",
    "- **Phase 2**: Fine-tune SUBTLE_TOXICITY tagged model\n",
    "- **Phase 3**: Compare performance and analyze results\n",
    "- **Phase 4**: Generate visualizations and recommendations"
   ]
  },
  {
   "cell_type": "markdown",
   "metadata": {},
   "source": [
    "## 1. Setup and Imports"
   ]
  },
  {
   "cell_type": "code",
   "execution_count": null,
   "metadata": {},
   "outputs": [],
   "source": [
    "import sys\n",
    "import os\n",
    "from pathlib import Path\n",
    "\n",
    "notebook_dir = Path.cwd()\n",
    "if notebook_dir not in sys.path:\n",
    "    sys.path.append(str(notebook_dir))\n",
    "\n",
    "import torch\n",
    "import pandas as pd\n",
    "import numpy as np\n",
    "import matplotlib.pyplot as plt\n",
    "import seaborn as sns\n",
    "from sklearn.model_selection import train_test_split\n",
    "from sklearn.metrics import roc_auc_score, classification_report\n",
    "import mlflow\n",
    "import mlflow.pytorch\n",
    "from tqdm import tqdm\n",
    "import warnings\n",
    "\n",
    "# Import our tagging class\n",
    "parent_dir = os.path.abspath('..')  # Un nivel arriba desde notebooks/\n",
    "sys.path.append(parent_dir)\n",
    "from src.training.toxic_tagging_methods import ToxicCommentTagger, ImprovedToxicCommentTagger\n",
    "\n",
    "warnings.filterwarnings('ignore')\n",
    "\n",
    "# Set device\n",
    "device = torch.device('cuda' if torch.cuda.is_available() else 'cpu')\n",
    "print(f\"Using device: {device}\")\n",
    "\n",
    "# Set style for better plots\n",
    "plt.style.use('seaborn-v0_8')\n",
    "sns.set_palette(\"husl\")"
   ]
  },
  {
   "cell_type": "markdown",
   "metadata": {},
   "source": [
    "## 2. Load and Prepare Data"
   ]
  },
  {
   "cell_type": "code",
   "execution_count": null,
   "metadata": {},
   "outputs": [],
   "source": [
    "# Load data\n",
    "base_dir = Path.cwd().parent if Path.cwd().name == \"notebooks\" else Path.cwd()\n",
    "data_dir = base_dir / \"src\" / \"data\" / \"raw\"\n",
    "\n",
    "train = pd.read_csv(data_dir / \"train.csv\")\n",
    "test = pd.read_csv(data_dir / \"test.csv\")\n",
    "test_labels = pd.read_csv(data_dir / \"test_labels.csv\")\n",
    "\n",
    "labels = ['toxic', 'severe_toxic', 'obscene', 'threat', 'insult', 'identity_hate']\n",
    "\n",
    "print(f'Train samples: {len(train)}')\n",
    "print(f'Test samples: {len(test)}')\n",
    "print(f'Labels: {labels}')"
   ]
  },
  {
   "cell_type": "code",
   "execution_count": null,
   "metadata": {},
   "outputs": [],
   "source": [
    "def prepare_test_for_evaluation(test_df, test_labels_df):\n",
    "    \"\"\"Prepare test data for evaluation by filtering valid samples.\"\"\"\n",
    "    valid_mask = (test_labels_df[labels] != -1).all(axis=1)\n",
    "    print(f'Test samples: {len(test_df)} total, {valid_mask.sum()} valid for evaluation')\n",
    "    return test_df[valid_mask].copy(), test_labels_df[valid_mask].copy()\n",
    "\n",
    "def create_balanced_subset(df, labels, n_per_class=200):\n",
    "    \"\"\"Create balanced subset for fair evaluation.\"\"\"\n",
    "    idxs = set()\n",
    "    print(f'Creating balanced subset with {n_per_class} samples per class...')\n",
    "    \n",
    "    for i, label in enumerate(labels):\n",
    "        class_idxs = np.where(df[label].values == 1)[0]\n",
    "        available = len(class_idxs)\n",
    "        to_sample = min(n_per_class, available)\n",
    "        \n",
    "        if available > 0:\n",
    "            chosen = np.random.choice(class_idxs, to_sample, replace=False)\n",
    "            idxs.update(chosen)\n",
    "            print(f'  {label}: {to_sample}/{available} samples')\n",
    "        else:\n",
    "            print(f'  {label}: 0 samples available!')\n",
    "    \n",
    "    # Add neutral samples\n",
    "    neutral_idxs = np.where(df[labels].sum(axis=1) == 0)[0]\n",
    "    neutral_available = len(neutral_idxs)\n",
    "    neutral_to_sample = min(n_per_class, neutral_available)\n",
    "    \n",
    "    if neutral_available > 0:\n",
    "        chosen_neutral = np.random.choice(neutral_idxs, neutral_to_sample, replace=False)\n",
    "        idxs.update(chosen_neutral)\n",
    "        print(f'  neutral: {neutral_to_sample}/{neutral_available} samples')\n",
    "    \n",
    "    idxs = list(idxs)\n",
    "    balanced_df = df.iloc[idxs].copy()\n",
    "    print(f'Total balanced samples: {len(balanced_df)}')\n",
    "    return balanced_df"
   ]
  },
  {
   "cell_type": "code",
   "execution_count": null,
   "metadata": {},
   "outputs": [],
   "source": [
    "# Prepare evaluation datasets\n",
    "test_eval, test_labels_eval = prepare_test_for_evaluation(test, test_labels)\n",
    "\n",
    "# Split training data\n",
    "X = train['comment_text'].values\n",
    "y = train[labels].values\n",
    "\n",
    "X_train, X_val, y_train, y_val = train_test_split(\n",
    "    X, y, test_size=0.1, random_state=42, stratify=y[:, 0]\n",
    ")\n",
    "\n",
    "print(f'Train size: {len(X_train)}')\n",
    "print(f'Validation size: {len(X_val)}')\n",
    "print(f'Test evaluation size: {len(test_eval)}')"
   ]
  },
  {
   "cell_type": "code",
   "execution_count": null,
   "metadata": {},
   "outputs": [],
   "source": [
    "# Create balanced evaluation sets\n",
    "np.random.seed(42)  # For reproducibility\n",
    "\n",
    "# Create balanced validation set\n",
    "val_df_temp = pd.DataFrame({'comment_text': X_val})\n",
    "val_df_temp[labels] = y_val\n",
    "balanced_val_df = create_balanced_subset(val_df_temp, labels, n_per_class=150)\n",
    "\n",
    "print('\\nBalanced validation set created')\n",
    "print('Class distribution:')\n",
    "for label in labels:\n",
    "    count = balanced_val_df[label].sum()\n",
    "    print(f'  {label}: {count} samples')"
   ]
  },
  {
   "cell_type": "markdown",
   "metadata": {},
   "source": [
    "## 3. Initialize Tagger and MLflow"
   ]
  },
  {
   "cell_type": "code",
   "execution_count": null,
   "metadata": {},
   "outputs": [],
   "source": [
    "# Initialize the tagger\n",
    "tagger = ImprovedToxicCommentTagger(\n",
    "    base_model_name='unitary/toxic-bert',\n",
    "    device=str(device)\n",
    ")\n",
    "\n",
    "# Set MLflow experiment\n",
    "mlflow.set_experiment('Toxic_BERT_Fine_Tuning_Experiment')\n",
    "\n",
    "# Prepare evaluation data\n",
    "eval_texts = balanced_val_df['comment_text'].tolist()\n",
    "eval_labels = balanced_val_df[labels].values\n",
    "\n",
    "print(f'Evaluating on {len(eval_texts)} balanced samples')\n",
    "print(f'Label distribution:')\n",
    "for i, label in enumerate(labels):\n",
    "    pos_samples = eval_labels[:, i].sum()\n",
    "    print(f'  {label}: {pos_samples} positive samples')"
   ]
  },
  {
   "cell_type": "markdown",
   "metadata": {},
   "source": [
    "## 4. Import Fine-tuning Framework"
   ]
  },
  {
   "cell_type": "code",
   "execution_count": null,
   "metadata": {},
   "outputs": [],
   "source": [
    "# Import the integrated fine-tuning module\n",
    "from integrated_fine_tuning import run_fine_tuning_experiment\n",
    "\n",
    "print(\"✅ Fine-tuning framework imported successfully!\")\n",
    "print(\"Ready to run baseline vs SUBTLE_TOXICITY comparison\")"
   ]
  },
  {
   "cell_type": "markdown",
   "metadata": {},
   "source": [
    "## 5. Run Fine-tuning Experiment\n",
    "\n",
    "This will run the complete experiment comparing baseline and SUBTLE_TOXICITY models."
   ]
  },
  {
   "cell_type": "code",
   "execution_count": null,
   "metadata": {},
   "outputs": [],
   "source": [
    "# Configure experiment parameters\n",
    "EPOCHS = 3\n",
    "BATCH_SIZE = 16\n",
    "LEARNING_RATE = 2e-5\n",
    "\n",
    "print(f\"Experiment Configuration:\")\n",
    "print(f\"  Epochs: {EPOCHS}\")\n",
    "print(f\"  Batch Size: {BATCH_SIZE}\")\n",
    "print(f\"  Learning Rate: {LEARNING_RATE}\")\n",
    "print(f\"  Device: {device}\")\n",
    "print(f\"  Training samples: {len(X_train)}\")\n",
    "print(f\"  Validation samples: {len(X_val)}\")\n",
    "print(f\"  Evaluation samples: {len(eval_texts)}\")"
   ]
  },
  {
   "cell_type": "code",
   "execution_count": null,
   "metadata": {
    "scrolled": true
   },
   "outputs": [],
   "source": [
    "# Run the complete fine-tuning experiment\n",
    "results, ft_manager = run_fine_tuning_experiment(\n",
    "    tagger=tagger,\n",
    "    labels=labels,\n",
    "    device=device,\n",
    "    X_train=X_train,\n",
    "    y_train=y_train,\n",
    "    X_val=X_val,\n",
    "    y_val=y_val,\n",
    "    eval_texts=eval_texts,\n",
    "    eval_labels=eval_labels,\n",
    "    epochs=EPOCHS,\n",
    "    batch_size=BATCH_SIZE,\n",
    "    learning_rate=LEARNING_RATE\n",
    ")"
   ]
  },
  {
   "cell_type": "markdown",
   "metadata": {},
   "source": [
    "## 6. Analyze Results"
   ]
  },
  {
   "cell_type": "code",
   "execution_count": null,
   "metadata": {},
   "outputs": [],
   "source": [
    "# Extract key results\n",
    "baseline_auc = results['baseline']['results']['test_auc']\n",
    "tagged_auc = results['subtle_toxicity']['results']['test_auc']\n",
    "improvement = results['comparison']['overall']['improvement']\n",
    "improvement_pct = results['comparison']['overall']['improvement_pct']\n",
    "\n",
    "print(f\"📊 EXPERIMENT RESULTS SUMMARY\")\n",
    "print(f\"={'='*50}\")\n",
    "print(f\"Baseline AUC:           {baseline_auc:.4f}\")\n",
    "print(f\"SUBTLE_TOXICITY AUC:    {tagged_auc:.4f}\")\n",
    "print(f\"Improvement:            {improvement:+.4f} ({improvement_pct:+.2f}%)\")\n",
    "\n",
    "if improvement > 0.01:\n",
    "    print(f\"\n",
    "✅ RESULT: SUBTLE_TOXICITY tagging shows meaningful improvement!\")\n",
    "    print(f\"   Recommendation: Use the SUBTLE_TOXICITY model for production\")\n",
    "elif improvement > -0.01:\n",
    "    print(f\"\n",
    "⚖️  RESULT: SUBTLE_TOXICITY tagging shows neutral results\")\n",
    "    print(f\"   Recommendation: Consider other tagging methods or stick with baseline\")\n",
    "else:\n",
    "    print(f\"\n",
    "❌ RESULT: SUBTLE_TOXICITY tagging hurts performance\")\n",
    "    print(f\"   Recommendation: Use baseline model for production\")"
   ]
  },
  {
   "cell_type": "code",
   "execution_count": null,
   "metadata": {},
   "outputs": [],
   "source": [
    "# Detailed per-label analysis\n",
    "print(f\"\n",
    "📈 PER-LABEL PERFORMANCE ANALYSIS\")\n",
    "print(f\"={'='*60}\")\n",
    "\n",
    "label_comparisons = results['comparison']['per_label']\n",
    "\n",
    "# Sort by improvement\n",
    "sorted_labels = sorted(label_comparisons.items(), key=lambda x: x[1]['improvement'], reverse=True)\n",
    "\n",
    "print(f\"{'Label':<15} {'Baseline':<10} {'Tagged':<10} {'Improvement':<15} {'Status':<10}\")\n",
    "print(f\"{'-'*70}\")\n",
    "\n",
    "for label, metrics in sorted_labels:\n",
    "    baseline_val = metrics['baseline']\n",
    "    tagged_val = metrics['tagged']\n",
    "    improvement_val = metrics['improvement']\n",
    "    improvement_pct_val = metrics['improvement_pct']\n",
    "    \n",
    "    if improvement_val > 0.01:\n",
    "        status = \"✅ Better\"\n",
    "    elif improvement_val > -0.01:\n",
    "        status = \"⚖️  Neutral\"\n",
    "    else:\n",
    "        status = \"❌ Worse\"\n",
    "    \n",
    "    print(f\"{label:<15} {baseline_val:<10.4f} {tagged_val:<10.4f} \"\n",
    "          f\"{improvement_val:+.4f} ({improvement_pct_val:+.1f}%) {status:<10}\")"
   ]
  },
  {
   "cell_type": "code",
   "execution_count": null,
   "metadata": {},
   "outputs": [],
   "source": [
    "# Neutral comment analysis\n",
    "baseline_neutral = results['baseline']['results']['neutral_analysis']\n",
    "tagged_neutral = results['subtle_toxicity']['results']['neutral_analysis']\n",
    "\n",
    "print(f\"\n",
    "🎯 NEUTRAL COMMENT PERFORMANCE\")\n",
    "print(f\"={'='*40}\")\n",
    "print(f\"Total neutral comments: {baseline_neutral['total_neutral']}\")\n",
    "print(f\"\n",
    "Baseline Model:\")\n",
    "print(f\"  Correctly classified: {baseline_neutral['correct_neutral']}\")\n",
    "print(f\"  Accuracy: {baseline_neutral['neutral_accuracy']:.4f}\")\n",
    "print(f\"  False positive rate: {baseline_neutral['fp_rate']:.4f}\")\n",
    "print(f\"\n",
    "SUBTLE_TOXICITY Model:\")\n",
    "print(f\"  Correctly classified: {tagged_neutral['correct_neutral']}\")\n",
    "print(f\"  Accuracy: {tagged_neutral['neutral_accuracy']:.4f}\")\n",
    "print(f\"  False positive rate: {tagged_neutral['fp_rate']:.4f}\")\n",
    "\n",
    "neutral_accuracy_change = tagged_neutral['neutral_accuracy'] - baseline_neutral['neutral_accuracy']\n",
    "if abs(neutral_accuracy_change) > 0.01:\n",
    "    if neutral_accuracy_change > 0:\n",
    "        print(f\"\n",
    "✅ SUBTLE_TOXICITY improved neutral comment handling by {neutral_accuracy_change:+.3f}\")\n",
    "    else:\n",
    "        print(f\"\n",
    "⚠️  SUBTLE_TOXICITY slightly hurt neutral comment handling by {neutral_accuracy_change:.3f}\")\n",
    "else:\n",
    "    print(f\"\n",
    "⚖️  Neutral comment performance is similar between models\")"
   ]
  },
  {
   "cell_type": "markdown",
   "metadata": {},
   "source": [
    "## 7. Training Visualizations"
   ]
  },
  {
   "cell_type": "code",
   "execution_count": null,
   "metadata": {},
   "outputs": [],
   "source": [
    "# Plot training history comparison\n",
    "training_plot = ft_manager.plot_training_history(['baseline', 'subtle_toxicity'])\n",
    "plt.show()"
   ]
  },
  {
   "cell_type": "code",
   "execution_count": null,
   "metadata": {},
   "outputs": [],
   "source": [
    "# Create a summary comparison chart\n",
    "fig, axes = plt.subplots(1, 2, figsize=(15, 6))\n",
    "\n",
    "# Overall AUC comparison\n",
    "methods = ['Baseline', 'SUBTLE_TOXICITY']\n",
    "aucs = [baseline_auc, tagged_auc]\n",
    "colors = ['skyblue', 'lightcoral']\n",
    "\n",
    "bars = axes[0].bar(methods, aucs, color=colors, alpha=0.7, edgecolor='black')\n",
    "axes[0].set_title('Overall AUC Comparison', fontsize=14, fontweight='bold')\n",
    "axes[0].set_ylabel('AUC Score')\n",
    "axes[0].set_ylim(0.95, 1.0)\n",
    "\n",
    "# Add value labels on bars\n",
    "for bar, auc in zip(bars, aucs):\n",
    "    axes[0].text(bar.get_x() + bar.get_width()/2, bar.get_height() + 0.001, \n",
    "                f'{auc:.4f}', ha='center', va='bottom', fontweight='bold')\n",
    "\n",
    "# Per-label improvements\n",
    "label_names = list(label_comparisons.keys())\n",
    "improvements = [label_comparisons[label]['improvement'] for label in label_names]\n",
    "\n",
    "bar_colors = ['green' if imp > 0 else 'red' for imp in improvements]\n",
    "bars2 = axes[1].bar(range(len(label_names)), improvements, color=bar_colors, alpha=0.7)\n",
    "axes[1].set_title('Per-Label AUC Improvements', fontsize=14, fontweight='bold')\n",
    "axes[1].set_ylabel('AUC Improvement')\n",
    "axes[1].set_xticks(range(len(label_names)))\n",
    "axes[1].set_xticklabels(label_names, rotation=45, ha='right')\n",
    "axes[1].axhline(y=0, color='black', linestyle='-', alpha=0.3)\n",
    "\n",
    "# Add value labels\n",
    "for bar, imp in zip(bars2, improvements):\n",
    "    axes[1].text(bar.get_x() + bar.get_width()/2, bar.get_height() + (0.001 if imp > 0 else -0.003), \n",
    "                f'{imp:+.3f}', ha='center', va='bottom' if imp > 0 else 'top', fontsize=10)\n",
    "\n",
    "plt.tight_layout()\n",
    "plt.show()"
   ]
  },
  {
   "cell_type": "markdown",
   "metadata": {},
   "source": [
    "## 8. Model Selection and Recommendations"
   ]
  },
  {
   "cell_type": "code",
   "execution_count": null,
   "metadata": {},
   "outputs": [],
   "source": [
    "# Determine best model and provide recommendations\n",
    "print(f\"🎯 FINAL RECOMMENDATIONS\")\n",
    "print(f\"={'='*50}\")\n",
    "\n",
    "if improvement > 0.005:  # Meaningful improvement threshold\n",
    "    best_model = results['subtle_toxicity']['model']\n",
    "    print(f\"✅ RECOMMENDATION: Use SUBTLE_TOXICITY model\")\n",
    "    print(f\"\n",
    "📈 Benefits:\")\n",
    "    print(f\"   • Overall AUC improvement: {improvement:+.4f} ({improvement_pct:+.2f}%)\")\n",
    "    \n",
    "    # Show best improved labels\n",
    "    best_improvements = sorted(label_comparisons.items(), \n",
    "                              key=lambda x: x[1]['improvement'], reverse=True)[:3]\n",
    "    print(f\"   • Best improvements in:\")\n",
    "    for label, metrics in best_improvements:\n",
    "        if metrics['improvement'] > 0.005:\n",
    "            print(f\"     - {label}: +{metrics['improvement']:.4f} ({metrics['improvement_pct']:+.1f}%)\")\n",
    "    \n",
    "    print(f\"\n",
    "🚀 Next Steps:\")\n",
    "    print(f\"   1. Save the SUBTLE_TOXICITY model for production use\")\n",
    "    print(f\"   2. Consider testing on larger evaluation sets\")\n",
    "    print(f\"   3. Explore combining with other tagging methods\")\n",
    "    \n",
    "else:\n",
    "    best_model = results['baseline']['model']\n",
    "    print(f\"⚖️  RECOMMENDATION: Use baseline model\")\n",
    "    print(f\"\n",
    "📊 Analysis:\")\n",
    "    if improvement > -0.005:\n",
    "        print(f\"   • SUBTLE_TOXICITY shows neutral results ({improvement:+.4f})\")\n",
    "        print(f\"   • No significant performance gain from tagging\")\n",
    "    else:\n",
    "        print(f\"   • SUBTLE_TOXICITY hurts performance ({improvement:+.4f})\")\n",
    "        print(f\"   • Tagging may be adding noise to the model\")\n",
    "    \n",
    "    print(f\"\n",
    "🔍 Next Steps:\")\n",
    "    print(f\"   1. Use baseline model for production\")\n",
    "    print(f\"   2. Try other tagging methods (EXPLICIT_MARKERS, CONTEXTUAL_INTENSITY)\")\n",
    "    print(f\"   3. Consider ensemble approaches\")\n",
    "    print(f\"   4. Analyze why tagging didn't help\")\n",
    "\n",
    "print(f\"\n",
    "💾 Model Artifacts:\")\n",
    "print(f\"   • Baseline model saved as: fine_tuned_baseline_model/\")\n",
    "print(f\"   • SUBTLE_TOXICITY model saved as: fine_tuned_subtle_toxicity_model/\")\n",
    "print(f\"   • Training plots saved as: training_history_comparison.png\")\n",
    "print(f\"   • MLflow experiment: Toxic_BERT_Fine_Tuning_Experiment\")"
   ]
  },
  {
   "cell_type": "markdown",
   "metadata": {},
   "source": [
    "## 9. Optional: Test Best Model on Sample Texts"
   ]
  },
  {
   "cell_type": "code",
   "execution_count": null,
   "metadata": {},
   "outputs": [],
   "source": [
    "# Test the best model on some sample texts\n",
    "sample_texts = [\n",
    "    \"This is a great article, thanks for sharing!\",\n",
    "    \"You are such an idiot, go kill yourself\",\n",
    "    \"I disagree with your opinion but respect your right to have it\",\n",
    "    \"What a stupid waste of time this article is\",\n",
    "    \"Can you please provide more information about this topic?\"\n",
    "]\n",
    "\n",
    "print(f\"🧪 TESTING BEST MODEL ON SAMPLE TEXTS\")\n",
    "print(f\"={'='*60}\")\n",
    "\n",
    "# Use the tagger's predict method with the best model\n",
    "model_name = 'subtle_toxicity' if improvement > 0.005 else 'baseline'\n",
    "print(f\"Using {model_name.upper()} model for predictions\\n\")\n",
    "\n",
    "# For demonstration, we'll use the tagger's existing predict method\n",
    "# In practice, you'd want to load the fine-tuned model\n",
    "predictions = tagger.predict(sample_texts)\n",
    "\n",
    "for i, (text, pred) in enumerate(zip(sample_texts, predictions)):\n",
    "    print(f\"Text {i+1}: {text}\")\n",
    "    print(f\"Predictions:\")\n",
    "    for j, label in enumerate(labels):\n",
    "        score = pred[j]\n",
    "        status = \"🔴\" if score > 0.5 else \"🟢\"\n",
    "        print(f\"  {label:15}: {score:.3f} {status}\")\n",
    "    print(f\"{'-'*50}\\n\")"
   ]
  },
  {
   "cell_type": "markdown",
   "metadata": {},
   "source": [
    "## 10. Experiment Summary"
   ]
  },
  {
   "cell_type": "code",
   "execution_count": null,
   "metadata": {},
   "outputs": [],
   "source": [
    "# Final experiment summary\n",
    "print(f\"📋 EXPERIMENT SUMMARY\")\n",
    "print(f\"={'='*50}\")\n",
    "print(f\"Experiment: Baseline vs SUBTLE_TOXICITY Fine-tuning\")\n",
    "print(f\"Dataset: Kaggle Toxic Comment Classification\")\n",
    "print(f\"Base Model: unitary/toxic-bert\")\n",
    "print(f\"Training Samples: {len(X_train):,}\")\n",
    "print(f\"Validation Samples: {len(X_val):,}\")\n",
    "print(f\"Evaluation Samples: {len(eval_texts):,}\")\n",
    "print(f\"\n",
    "Training Configuration:\")\n",
    "print(f\"  Epochs: {EPOCHS}\")\n",
    "print(f\"  Batch Size: {BATCH_SIZE}\")\n",
    "print(f\"  Learning Rate: {LEARNING_RATE}\")\n",
    "print(f\"  Device: {device}\")\n",
    "print(f\"\n",
    "Results:\")\n",
    "print(f\"  Baseline AUC: {baseline_auc:.4f}\")\n",
    "print(f\"  SUBTLE_TOXICITY AUC: {tagged_auc:.4f}\")\n",
    "print(f\"  Improvement: {improvement:+.4f} ({improvement_pct:+.2f}%)\")\n",
    "print(f\"\n",
    "Conclusion: {'SUBTLE_TOXICITY is better' if improvement > 0.005 else 'Baseline is better or equivalent'}\")\n",
    "print(f\"\n",
    "✅ Experiment completed successfully!\")"
   ]
  }
 ],
 "metadata": {
  "kernelspec": {
   "display_name": "toxic_py311",
   "language": "python",
   "name": "python3"
  },
  "language_info": {
   "codemirror_mode": {
    "name": "ipython",
    "version": 3
   },
   "file_extension": ".py",
   "mimetype": "text/x-python",
   "name": "python",
   "nbconvert_exporter": "python",
   "pygments_lexer": "ipython3",
   "version": "3.11.13"
  }
 },
 "nbformat": 4,
 "nbformat_minor": 4
}
