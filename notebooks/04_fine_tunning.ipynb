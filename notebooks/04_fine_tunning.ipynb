{
 "cells": [
  {
   "cell_type": "markdown",
   "id": "766a06f9",
   "metadata": {},
   "source": [
    "Toxic-BERT Enhancement with Tagging Methods\n",
    "===========================================\n",
    "\n",
    "This script implements and evaluates different tagging strategies to improve \n",
    "the performance of `unitary/toxic-bert`.\n",
    "\n",
    "Strategy Overview:\n",
    "1. Explicit Toxicity Markers: Add toxicity type tags ([THREAT][INSULT])\n",
    "2. Contextual Intensity Tagging: Add intensity markers ([INTENSITY:HIGH][CAPS:HEAVY])\n",
    "3. Target-Oriented Tagging: Identify attack targets ([TARGET:PERSON][DIRECTION:DIRECT])\n",
    "4. Linguistic Feature Tagging: Add structural features ([LENGTH:SHORT][QUESTION])\n",
    "5. Semantic Context Tagging: Add domain context ([CONTEXT:POLITICAL][EMOTION:ANGER])\n",
    "\n",
    "Each method aims to provide additional context to help the model better \n",
    "understand and classify toxic comments."
   ]
  },
  {
   "cell_type": "code",
   "execution_count": 1,
   "id": "a53e9efe",
   "metadata": {},
   "outputs": [
    {
     "name": "stderr",
     "output_type": "stream",
     "text": [
      "c:\\Users\\analyst4\\AppData\\Local\\anaconda3\\envs\\toxic_py311\\Lib\\site-packages\\tqdm\\auto.py:21: TqdmWarning: IProgress not found. Please update jupyter and ipywidgets. See https://ipywidgets.readthedocs.io/en/stable/user_install.html\n",
      "  from .autonotebook import tqdm as notebook_tqdm\n",
      "c:\\Users\\analyst4\\AppData\\Local\\anaconda3\\envs\\toxic_py311\\Lib\\site-packages\\transformers\\utils\\generic.py:441: FutureWarning: `torch.utils._pytree._register_pytree_node` is deprecated. Please use `torch.utils._pytree.register_pytree_node` instead.\n",
      "  _torch_pytree._register_pytree_node(\n"
     ]
    }
   ],
   "source": [
    "import sys\n",
    "import os\n",
    "from pathlib import Path\n",
    "\n",
    "notebook_dir = Path.cwd()\n",
    "if notebook_dir not in sys.path:\n",
    "    sys.path.append(str(notebook_dir))\n",
    "\n",
    "import torch\n",
    "import pandas as pd\n",
    "import numpy as np\n",
    "import matplotlib.pyplot as plt\n",
    "import seaborn as sns\n",
    "from sklearn.model_selection import train_test_split\n",
    "from sklearn.metrics import roc_auc_score, classification_report\n",
    "import mlflow\n",
    "import mlflow.pytorch\n",
    "from tqdm import tqdm\n",
    "import warnings\n",
    "\n",
    "\n",
    "# Import our tagging class\n",
    "parent_dir = os.path.abspath('..')  # Un nivel arriba desde notebooks/\n",
    "sys.path.append(parent_dir)\n",
    "from src.training.toxic_tagging_methods import ToxicCommentTagger, ImprovedToxicCommentTagger\n",
    "\n",
    "\n",
    "warnings.filterwarnings('ignore')"
   ]
  },
  {
   "cell_type": "code",
   "execution_count": 2,
   "id": "2339222a",
   "metadata": {},
   "outputs": [
    {
     "name": "stdout",
     "output_type": "stream",
     "text": [
      "Using device: cuda\n"
     ]
    }
   ],
   "source": [
    "\n",
    "\n",
    "# Set device\n",
    "device = torch.device('cuda' if torch.cuda.is_available() else 'cpu')\n",
    "print(f\"Using device: {device}\")"
   ]
  },
  {
   "cell_type": "markdown",
   "id": "876e2314",
   "metadata": {},
   "source": [
    "## LOAD DATA ##"
   ]
  },
  {
   "cell_type": "code",
   "execution_count": 3,
   "id": "1d6b06b3",
   "metadata": {},
   "outputs": [
    {
     "name": "stdout",
     "output_type": "stream",
     "text": [
      "Train samples: 159571\n",
      "Test samples: 153164\n",
      "Labels: ['toxic', 'severe_toxic', 'obscene', 'threat', 'insult', 'identity_hate']\n"
     ]
    }
   ],
   "source": [
    "# Load data\n",
    "base_dir = Path.cwd().parent if Path.cwd().name == \"notebooks\" else Path.cwd()\n",
    "data_dir = base_dir / \"src\" / \"data\" / \"raw\"\n",
    "\n",
    "train = pd.read_csv(data_dir / \"train.csv\")\n",
    "test = pd.read_csv(data_dir / \"test.csv\")\n",
    "test_labels = pd.read_csv(data_dir / \"test_labels.csv\")\n",
    "\n",
    "labels = ['toxic', 'severe_toxic', 'obscene', 'threat', 'insult', 'identity_hate']\n",
    "\n",
    "print(f'Train samples: {len(train)}')\n",
    "print(f'Test samples: {len(test)}')\n",
    "print(f'Labels: {labels}')"
   ]
  },
  {
   "cell_type": "markdown",
   "id": "82e26298",
   "metadata": {},
   "source": [
    "## UTILITIES ##"
   ]
  },
  {
   "cell_type": "code",
   "execution_count": 4,
   "id": "6767caf3",
   "metadata": {},
   "outputs": [],
   "source": [
    "def prepare_test_for_evaluation(test_df, test_labels_df):\n",
    "    \"\"\"Prepare test data for evaluation by filtering valid samples.\"\"\"\n",
    "    valid_mask = (test_labels_df[labels] != -1).all(axis=1)\n",
    "    print(f'Test samples: {len(test_df)} total, {valid_mask.sum()} valid for evaluation')\n",
    "    return test_df[valid_mask].copy(), test_labels_df[valid_mask].copy()\n",
    "\n",
    "def create_balanced_subset(df, labels, n_per_class=200):\n",
    "    \"\"\"Create balanced subset for fair evaluation.\"\"\"\n",
    "    idxs = set()\n",
    "    print(f'Creating balanced subset with {n_per_class} samples per class...')\n",
    "    \n",
    "    for i, label in enumerate(labels):\n",
    "        class_idxs = np.where(df[label].values == 1)[0]\n",
    "        available = len(class_idxs)\n",
    "        to_sample = min(n_per_class, available)\n",
    "        \n",
    "        if available > 0:\n",
    "            chosen = np.random.choice(class_idxs, to_sample, replace=False)\n",
    "            idxs.update(chosen)\n",
    "            print(f'  {label}: {to_sample}/{available} samples')\n",
    "        else:\n",
    "            print(f'  {label}: 0 samples available!')\n",
    "    \n",
    "    # Add neutral samples\n",
    "    neutral_idxs = np.where(df[labels].sum(axis=1) == 0)[0]\n",
    "    neutral_available = len(neutral_idxs)\n",
    "    neutral_to_sample = min(n_per_class, neutral_available)\n",
    "    \n",
    "    if neutral_available > 0:\n",
    "        chosen_neutral = np.random.choice(neutral_idxs, neutral_to_sample, replace=False)\n",
    "        idxs.update(chosen_neutral)\n",
    "        print(f'  neutral: {neutral_to_sample}/{neutral_available} samples')\n",
    "    \n",
    "    idxs = list(idxs)\n",
    "    balanced_df = df.iloc[idxs].copy()\n",
    "    print(f'Total balanced samples: {len(balanced_df)}')\n",
    "    return balanced_df"
   ]
  },
  {
   "cell_type": "markdown",
   "id": "e9cadadc",
   "metadata": {},
   "source": [
    "## PREPARE FOR EVALUATION ##"
   ]
  },
  {
   "cell_type": "code",
   "execution_count": 5,
   "id": "d4bf891e",
   "metadata": {},
   "outputs": [
    {
     "name": "stdout",
     "output_type": "stream",
     "text": [
      "Test samples: 153164 total, 63978 valid for evaluation\n",
      "Train size: 143613\n",
      "Validation size: 15958\n",
      "Test evaluation size: 63978\n"
     ]
    }
   ],
   "source": [
    "# Prepare evaluation datasets\n",
    "test_eval, test_labels_eval = prepare_test_for_evaluation(test, test_labels)\n",
    "\n",
    "# Split training data\n",
    "X = train['comment_text'].values\n",
    "y = train[labels].values\n",
    "\n",
    "X_train, X_val, y_train, y_val = train_test_split(\n",
    "    X, y, test_size=0.1, random_state=42, stratify=y[:, 0]\n",
    ")\n",
    "\n",
    "print(f'Train size: {len(X_train)}')\n",
    "print(f'Validation size: {len(X_val)}')\n",
    "print(f'Test evaluation size: {len(test_eval)}')"
   ]
  },
  {
   "cell_type": "markdown",
   "id": "e9c617f2",
   "metadata": {},
   "source": [
    "## CREATE BALANCED EVALUATION SETS ##"
   ]
  },
  {
   "cell_type": "code",
   "execution_count": 6,
   "id": "4820a79e",
   "metadata": {},
   "outputs": [
    {
     "name": "stdout",
     "output_type": "stream",
     "text": [
      "Creating balanced subset with 150 samples per class...\n",
      "  toxic: 150/1529 samples\n",
      "  severe_toxic: 149/149 samples\n",
      "  obscene: 150/847 samples\n",
      "  threat: 50/50 samples\n",
      "  insult: 150/800 samples\n",
      "  identity_hate: 150/153 samples\n",
      "  neutral: 150/14355 samples\n",
      "Total balanced samples: 759\n",
      "\n",
      "Balanced validation set created\n",
      "Class distribution:\n",
      "  toxic: 584 samples\n",
      "  severe_toxic: 149 samples\n",
      "  obscene: 451 samples\n",
      "  threat: 50 samples\n",
      "  insult: 439 samples\n",
      "  identity_hate: 153 samples\n"
     ]
    }
   ],
   "source": [
    "# Create balanced evaluation sets\n",
    "np.random.seed(42)  # For reproducibility\n",
    "\n",
    "# Create balanced validation set\n",
    "val_df_temp = pd.DataFrame({'comment_text': X_val})\n",
    "val_df_temp[labels] = y_val\n",
    "balanced_val_df = create_balanced_subset(val_df_temp, labels, n_per_class=150)\n",
    "\n",
    "print('\\nBalanced validation set created')\n",
    "print('Class distribution:')\n",
    "for label in labels:\n",
    "    count = balanced_val_df[label].sum()\n",
    "    print(f'  {label}: {count} samples')"
   ]
  },
  {
   "cell_type": "markdown",
   "id": "cc1042d0",
   "metadata": {},
   "source": [
    "## TAGGING SYSTEM ##"
   ]
  },
  {
   "cell_type": "code",
   "execution_count": 7,
   "id": "08d2f21c",
   "metadata": {},
   "outputs": [
    {
     "name": "stdout",
     "output_type": "stream",
     "text": [
      "Initialized ImprovedToxicCommentTagger with unitary/toxic-bert on cuda\n",
      "ImprovedToxicCommentTagger initialized successfully!\n"
     ]
    }
   ],
   "source": [
    "# Initialize the tagger\n",
    "tagger = ImprovedToxicCommentTagger(\n",
    "    base_model_name='unitary/toxic-bert',\n",
    "    device=str(device)\n",
    ")\n",
    "\n",
    "print('ImprovedToxicCommentTagger initialized successfully!')"
   ]
  },
  {
   "cell_type": "code",
   "execution_count": 8,
   "id": "07671745",
   "metadata": {},
   "outputs": [
    {
     "name": "stderr",
     "output_type": "stream",
     "text": [
      "2025/08/07 11:18:10 INFO mlflow.tracking.fluent: Experiment with name 'Toxic_BERT_Tagging_Methods' does not exist. Creating a new experiment.\n"
     ]
    },
    {
     "name": "stdout",
     "output_type": "stream",
     "text": [
      "Evaluating on 759 balanced samples\n",
      "Label distribution:\n",
      "  toxic: 584 positive samples\n",
      "  severe_toxic: 149 positive samples\n",
      "  obscene: 451 positive samples\n",
      "  threat: 50 positive samples\n",
      "  insult: 439 positive samples\n",
      "  identity_hate: 153 positive samples\n"
     ]
    }
   ],
   "source": [
    "# Set MLflow experiment\n",
    "mlflow.set_experiment('Toxic_BERT_Tagging_Methods')\n",
    "\n",
    "# Prepare evaluation data\n",
    "eval_texts = balanced_val_df['comment_text'].tolist()\n",
    "eval_labels = balanced_val_df[labels].values\n",
    "\n",
    "print(f'Evaluating on {len(eval_texts)} balanced samples')\n",
    "print(f'Label distribution:')\n",
    "for i, label in enumerate(labels):\n",
    "    pos_samples = eval_labels[:, i].sum()\n",
    "    print(f'  {label}: {pos_samples} positive samples')"
   ]
  },
  {
   "cell_type": "code",
   "execution_count": 9,
   "id": "b9e0384e",
   "metadata": {},
   "outputs": [],
   "source": [
    "# Define methods to evaluate\n",
    "methods_to_evaluate = [\n",
    "    'baseline',           # No tagging\n",
    "    'explicit_markers',   # Method 1\n",
    "    'intensity_tagging',  # Method 2\n",
    "    'target_tagging',     # Method 3\n",
    "    'linguistic_features',# Method 4\n",
    "    'semantic_context'    # Method 5\n",
    "]"
   ]
  },
  {
   "cell_type": "code",
   "execution_count": 10,
   "id": "f228f48e",
   "metadata": {},
   "outputs": [
    {
     "name": "stdout",
     "output_type": "stream",
     "text": [
      "\n",
      "================================================================================\n",
      "EVALUATING IMPROVED METHOD: BASELINE\n",
      "================================================================================\n",
      "\n",
      "======================================================================\n",
      "EVALUATING IMPROVED METHOD: BASELINE\n",
      "======================================================================\n"
     ]
    },
    {
     "name": "stderr",
     "output_type": "stream",
     "text": [
      "Applying baseline: 100%|██████████| 759/759 [00:00<00:00, 763057.70it/s]"
     ]
    },
    {
     "name": "stdout",
     "output_type": "stream",
     "text": [
      "\n",
      "Example transformations:\n",
      "No transformations applied (method was conservative)\n"
     ]
    },
    {
     "name": "stderr",
     "output_type": "stream",
     "text": [
      "\n",
      "W0807 11:18:27.442000 15796 site-packages\\torch\\distributed\\elastic\\multiprocessing\\redirects.py:29] NOTE: Redirects are currently not supported in Windows or MacOs.\n",
      "Evaluating: 100%|██████████| 48/48 [00:25<00:00,  1.89it/s]\n"
     ]
    },
    {
     "name": "stdout",
     "output_type": "stream",
     "text": [
      "\n",
      "Per-label AUC scores:\n",
      "  toxic          : 0.9811\n",
      "  severe_toxic   : 0.8824\n",
      "  obscene        : 0.9813\n",
      "  threat         : 0.9687\n",
      "  insult         : 0.9536\n",
      "  identity_hate  : 0.9701\n",
      "\n",
      "  Mean AUC: 0.9562\n",
      "  Neutral accuracy: 0.9933\n",
      "  Neutral FP rate: 0.0067\n",
      "  Neutral samples: 150\n",
      "\n",
      "================================================================================\n",
      "EVALUATING IMPROVED METHOD: HIGH_CONFIDENCE_EXPLICIT\n",
      "================================================================================\n",
      "\n",
      "======================================================================\n",
      "EVALUATING IMPROVED METHOD: HIGH_CONFIDENCE_EXPLICIT\n",
      "======================================================================\n"
     ]
    },
    {
     "name": "stderr",
     "output_type": "stream",
     "text": [
      "Applying high_confidence_explicit: 100%|██████████| 759/759 [00:00<00:00, 6458.19it/s]\n"
     ]
    },
    {
     "name": "stdout",
     "output_type": "stream",
     "text": [
      "\n",
      "Example transformations:\n",
      "Original: Holy Christ \n",
      "\n",
      "10,000+ Edits?\n",
      "Get a life, faggot.\n",
      "Tagged:   [HATE_SLUR] Holy Christ \n",
      "\n",
      "10,000+ Edits?\n",
      "Get a life, faggot.\n",
      "\n",
      "Transformation rate: 0.1%\n"
     ]
    },
    {
     "name": "stderr",
     "output_type": "stream",
     "text": [
      "Evaluating: 100%|██████████| 48/48 [00:24<00:00,  1.99it/s]\n"
     ]
    },
    {
     "name": "stdout",
     "output_type": "stream",
     "text": [
      "\n",
      "Per-label AUC scores:\n",
      "  toxic          : 0.9813\n",
      "  severe_toxic   : 0.8762\n",
      "  obscene        : 0.9804\n",
      "  threat         : 0.9686\n",
      "  insult         : 0.9534\n",
      "  identity_hate  : 0.9701\n",
      "\n",
      "  Mean AUC: 0.9550\n",
      "  Neutral accuracy: 0.9933\n",
      "  Neutral FP rate: 0.0067\n",
      "  Neutral samples: 150\n",
      "\n",
      "================================================================================\n",
      "EVALUATING IMPROVED METHOD: SUBTLE_TOXICITY\n",
      "================================================================================\n",
      "\n",
      "======================================================================\n",
      "EVALUATING IMPROVED METHOD: SUBTLE_TOXICITY\n",
      "======================================================================\n"
     ]
    },
    {
     "name": "stderr",
     "output_type": "stream",
     "text": [
      "Applying subtle_toxicity: 100%|██████████| 759/759 [00:00<00:00, 7108.78it/s]"
     ]
    },
    {
     "name": "stdout",
     "output_type": "stream",
     "text": [
      "\n",
      "Example transformations:\n",
      "No transformations applied (method was conservative)\n"
     ]
    },
    {
     "name": "stderr",
     "output_type": "stream",
     "text": [
      "\n",
      "Evaluating: 100%|██████████| 48/48 [00:24<00:00,  1.99it/s]\n"
     ]
    },
    {
     "name": "stdout",
     "output_type": "stream",
     "text": [
      "\n",
      "Per-label AUC scores:\n",
      "  toxic          : 0.9810\n",
      "  severe_toxic   : 0.8827\n",
      "  obscene        : 0.9819\n",
      "  threat         : 0.9687\n",
      "  insult         : 0.9535\n",
      "  identity_hate  : 0.9699\n",
      "\n",
      "  Mean AUC: 0.9563\n",
      "  Neutral accuracy: 0.9933\n",
      "  Neutral FP rate: 0.0067\n",
      "  Neutral samples: 150\n",
      "\n",
      "================================================================================\n",
      "EVALUATING IMPROVED METHOD: CONTEXTUAL_AMPLIFICATION\n",
      "================================================================================\n",
      "\n",
      "======================================================================\n",
      "EVALUATING IMPROVED METHOD: CONTEXTUAL_AMPLIFICATION\n",
      "======================================================================\n"
     ]
    },
    {
     "name": "stderr",
     "output_type": "stream",
     "text": [
      "Applying contextual_amplification: 100%|██████████| 759/759 [00:00<00:00, 10916.22it/s]\n"
     ]
    },
    {
     "name": "stdout",
     "output_type": "stream",
     "text": [
      "\n",
      "Example transformations:\n",
      "No transformations applied (method was conservative)\n"
     ]
    },
    {
     "name": "stderr",
     "output_type": "stream",
     "text": [
      "Evaluating: 100%|██████████| 48/48 [00:24<00:00,  1.95it/s]\n"
     ]
    },
    {
     "name": "stdout",
     "output_type": "stream",
     "text": [
      "\n",
      "Per-label AUC scores:\n",
      "  toxic          : 0.9806\n",
      "  severe_toxic   : 0.8830\n",
      "  obscene        : 0.9811\n",
      "  threat         : 0.9685\n",
      "  insult         : 0.9526\n",
      "  identity_hate  : 0.9702\n",
      "\n",
      "  Mean AUC: 0.9560\n",
      "  Neutral accuracy: 0.9933\n",
      "  Neutral FP rate: 0.0067\n",
      "  Neutral samples: 150\n",
      "\n",
      "================================================================================\n",
      "EVALUATING IMPROVED METHOD: THREAT_ESCALATION\n",
      "================================================================================\n",
      "\n",
      "======================================================================\n",
      "EVALUATING IMPROVED METHOD: THREAT_ESCALATION\n",
      "======================================================================\n"
     ]
    },
    {
     "name": "stderr",
     "output_type": "stream",
     "text": [
      "Applying threat_escalation: 100%|██████████| 759/759 [00:00<00:00, 10394.65it/s]\n"
     ]
    },
    {
     "name": "stdout",
     "output_type": "stream",
     "text": [
      "\n",
      "Example transformations:\n",
      "No transformations applied (method was conservative)\n"
     ]
    },
    {
     "name": "stderr",
     "output_type": "stream",
     "text": [
      "Evaluating: 100%|██████████| 48/48 [00:24<00:00,  1.99it/s]\n"
     ]
    },
    {
     "name": "stdout",
     "output_type": "stream",
     "text": [
      "\n",
      "Per-label AUC scores:\n",
      "  toxic          : 0.9810\n",
      "  severe_toxic   : 0.8824\n",
      "  obscene        : 0.9812\n",
      "  threat         : 0.9687\n",
      "  insult         : 0.9534\n",
      "  identity_hate  : 0.9699\n",
      "\n",
      "  Mean AUC: 0.9561\n",
      "  Neutral accuracy: 0.9933\n",
      "  Neutral FP rate: 0.0067\n",
      "  Neutral samples: 150\n",
      "\n",
      "================================================================================\n",
      "EVALUATING IMPROVED METHOD: PRECISION_TARGETING\n",
      "================================================================================\n",
      "\n",
      "======================================================================\n",
      "EVALUATING IMPROVED METHOD: PRECISION_TARGETING\n",
      "======================================================================\n"
     ]
    },
    {
     "name": "stderr",
     "output_type": "stream",
     "text": [
      "Applying precision_targeting: 100%|██████████| 759/759 [00:00<00:00, 11191.46it/s]\n"
     ]
    },
    {
     "name": "stdout",
     "output_type": "stream",
     "text": [
      "\n",
      "Example transformations:\n",
      "No transformations applied (method was conservative)\n"
     ]
    },
    {
     "name": "stderr",
     "output_type": "stream",
     "text": [
      "Evaluating: 100%|██████████| 48/48 [00:24<00:00,  1.99it/s]\n"
     ]
    },
    {
     "name": "stdout",
     "output_type": "stream",
     "text": [
      "\n",
      "Per-label AUC scores:\n",
      "  toxic          : 0.9810\n",
      "  severe_toxic   : 0.8828\n",
      "  obscene        : 0.9815\n",
      "  threat         : 0.9685\n",
      "  insult         : 0.9533\n",
      "  identity_hate  : 0.9699\n",
      "\n",
      "  Mean AUC: 0.9562\n",
      "  Neutral accuracy: 0.9933\n",
      "  Neutral FP rate: 0.0067\n",
      "  Neutral samples: 150\n",
      "\n",
      "====================================================================================================\n",
      "IMPROVED TAGGING METHODS COMPARISON RESULTS\n",
      "====================================================================================================\n",
      "Method                    Mean AUC     Neutral Acc  Neutral FP   Improvement \n",
      "----------------------------------------------------------------------------------------------------\n",
      "subtle_toxicity           0.9563       0.9933       0.0067       +0.01%      \n",
      "baseline                  0.9562       0.9933       0.0067                   \n",
      "precision_targeting       0.9562       0.9933       0.0067       -0.00%      \n",
      "threat_escalation         0.9561       0.9933       0.0067       -0.01%      \n",
      "contextual_amplification  0.9560       0.9933       0.0067       -0.02%      \n",
      "high_confidence_explicit  0.9550       0.9933       0.0067       -0.12%      \n",
      "\n",
      "====================================================================================================\n",
      "BEST IMPROVEMENTS BY TOXICITY TYPE\n",
      "====================================================================================================\n",
      "TOXIC           | Best: high_confidence_explicit  | AUC: 0.9813 | Improvement: +0.0%\n",
      "SEVERE_TOXIC    | Best: contextual_amplification  | AUC: 0.8830 | Improvement: +0.1%\n",
      "OBSCENE         | Best: subtle_toxicity           | AUC: 0.9819 | Improvement: +0.1%\n",
      "THREAT          | Best: threat_escalation         | AUC: 0.9687 | Improvement: +0.0%\n",
      "IDENTITY_HATE   | Best: contextual_amplification  | AUC: 0.9702 | Improvement: +0.0%\n"
     ]
    }
   ],
   "source": [
    "# Métodos disponibles (más conservadores)\n",
    "improved_methods = [\n",
    "    'baseline',\n",
    "    'high_confidence_explicit',\n",
    "    'subtle_toxicity', \n",
    "    'contextual_amplification',\n",
    "    'threat_escalation',\n",
    "    'precision_targeting'\n",
    "]\n",
    "\n",
    "# Ejecuta la evaluación\n",
    "improved_results = tagger.compare_all_methods(\n",
    "    texts=eval_texts,\n",
    "    labels=eval_labels,\n",
    "    methods=improved_methods\n",
    ")"
   ]
  },
  {
   "cell_type": "code",
   "execution_count": 16,
   "id": "f025e268",
   "metadata": {},
   "outputs": [
    {
     "name": "stdout",
     "output_type": "stream",
     "text": [
      "\n",
      "================================================================================\n",
      "EVALUATING IMPROVED METHOD: BASELINE\n",
      "================================================================================\n",
      "\n",
      "======================================================================\n",
      "EVALUATING IMPROVED METHOD: BASELINE\n",
      "======================================================================\n"
     ]
    },
    {
     "name": "stderr",
     "output_type": "stream",
     "text": [
      "Applying baseline: 100%|██████████| 759/759 [00:00<00:00, 255598.29it/s]"
     ]
    },
    {
     "name": "stdout",
     "output_type": "stream",
     "text": [
      "\n",
      "Example transformations:\n",
      "No transformations applied (method was conservative)\n"
     ]
    },
    {
     "name": "stderr",
     "output_type": "stream",
     "text": [
      "\n",
      "Evaluating: 100%|██████████| 48/48 [00:24<00:00,  1.99it/s]\n"
     ]
    },
    {
     "name": "stdout",
     "output_type": "stream",
     "text": [
      "\n",
      "Per-label AUC scores:\n",
      "  toxic          : 0.9811\n",
      "  severe_toxic   : 0.8824\n",
      "  obscene        : 0.9813\n",
      "  threat         : 0.9687\n",
      "  insult         : 0.9536\n",
      "  identity_hate  : 0.9701\n",
      "\n",
      "  Mean AUC: 0.9562\n",
      "  Neutral accuracy: 0.9933\n",
      "  Neutral FP rate: 0.0067\n",
      "  Neutral samples: 150\n",
      "\n",
      "================================================================================\n",
      "EVALUATING IMPROVED METHOD: HIGH_CONFIDENCE_EXPLICIT\n",
      "================================================================================\n",
      "\n",
      "======================================================================\n",
      "EVALUATING IMPROVED METHOD: HIGH_CONFIDENCE_EXPLICIT\n",
      "======================================================================\n"
     ]
    },
    {
     "name": "stderr",
     "output_type": "stream",
     "text": [
      "Applying high_confidence_explicit: 100%|██████████| 759/759 [00:00<00:00, 10257.17it/s]\n"
     ]
    },
    {
     "name": "stdout",
     "output_type": "stream",
     "text": [
      "\n",
      "Example transformations:\n",
      "Original: Holy Christ \n",
      "\n",
      "10,000+ Edits?\n",
      "Get a life, faggot.\n",
      "Tagged:   [HATE_SLUR] Holy Christ \n",
      "\n",
      "10,000+ Edits?\n",
      "Get a life, faggot.\n",
      "\n",
      "Transformation rate: 0.1%\n"
     ]
    },
    {
     "name": "stderr",
     "output_type": "stream",
     "text": [
      "Evaluating: 100%|██████████| 48/48 [00:24<00:00,  1.99it/s]\n"
     ]
    },
    {
     "name": "stdout",
     "output_type": "stream",
     "text": [
      "\n",
      "Per-label AUC scores:\n",
      "  toxic          : 0.9813\n",
      "  severe_toxic   : 0.8762\n",
      "  obscene        : 0.9804\n",
      "  threat         : 0.9686\n",
      "  insult         : 0.9534\n",
      "  identity_hate  : 0.9701\n",
      "\n",
      "  Mean AUC: 0.9550\n",
      "  Neutral accuracy: 0.9933\n",
      "  Neutral FP rate: 0.0067\n",
      "  Neutral samples: 150\n",
      "\n",
      "================================================================================\n",
      "EVALUATING IMPROVED METHOD: SUBTLE_TOXICITY\n",
      "================================================================================\n",
      "\n",
      "======================================================================\n",
      "EVALUATING IMPROVED METHOD: SUBTLE_TOXICITY\n",
      "======================================================================\n"
     ]
    },
    {
     "name": "stderr",
     "output_type": "stream",
     "text": [
      "Applying subtle_toxicity: 100%|██████████| 759/759 [00:00<00:00, 4628.52it/s]\n"
     ]
    },
    {
     "name": "stdout",
     "output_type": "stream",
     "text": [
      "\n",
      "Example transformations:\n",
      "No transformations applied (method was conservative)\n"
     ]
    },
    {
     "name": "stderr",
     "output_type": "stream",
     "text": [
      "Evaluating: 100%|██████████| 48/48 [00:24<00:00,  1.97it/s]\n"
     ]
    },
    {
     "name": "stdout",
     "output_type": "stream",
     "text": [
      "\n",
      "Per-label AUC scores:\n",
      "  toxic          : 0.9810\n",
      "  severe_toxic   : 0.8827\n",
      "  obscene        : 0.9819\n",
      "  threat         : 0.9687\n",
      "  insult         : 0.9535\n",
      "  identity_hate  : 0.9699\n",
      "\n",
      "  Mean AUC: 0.9563\n",
      "  Neutral accuracy: 0.9933\n",
      "  Neutral FP rate: 0.0067\n",
      "  Neutral samples: 150\n",
      "\n",
      "================================================================================\n",
      "EVALUATING IMPROVED METHOD: CONTEXTUAL_AMPLIFICATION\n",
      "================================================================================\n",
      "\n",
      "======================================================================\n",
      "EVALUATING IMPROVED METHOD: CONTEXTUAL_AMPLIFICATION\n",
      "======================================================================\n"
     ]
    },
    {
     "name": "stderr",
     "output_type": "stream",
     "text": [
      "Applying contextual_amplification: 100%|██████████| 759/759 [00:00<00:00, 17054.22it/s]\n"
     ]
    },
    {
     "name": "stdout",
     "output_type": "stream",
     "text": [
      "\n",
      "Example transformations:\n",
      "No transformations applied (method was conservative)\n"
     ]
    },
    {
     "name": "stderr",
     "output_type": "stream",
     "text": [
      "Evaluating: 100%|██████████| 48/48 [00:24<00:00,  1.94it/s]\n"
     ]
    },
    {
     "name": "stdout",
     "output_type": "stream",
     "text": [
      "\n",
      "Per-label AUC scores:\n",
      "  toxic          : 0.9806\n",
      "  severe_toxic   : 0.8830\n",
      "  obscene        : 0.9811\n",
      "  threat         : 0.9685\n",
      "  insult         : 0.9526\n",
      "  identity_hate  : 0.9702\n",
      "\n",
      "  Mean AUC: 0.9560\n",
      "  Neutral accuracy: 0.9933\n",
      "  Neutral FP rate: 0.0067\n",
      "  Neutral samples: 150\n",
      "\n",
      "================================================================================\n",
      "EVALUATING IMPROVED METHOD: THREAT_ESCALATION\n",
      "================================================================================\n",
      "\n",
      "======================================================================\n",
      "EVALUATING IMPROVED METHOD: THREAT_ESCALATION\n",
      "======================================================================\n"
     ]
    },
    {
     "name": "stderr",
     "output_type": "stream",
     "text": [
      "Applying threat_escalation: 100%|██████████| 759/759 [00:00<00:00, 11085.30it/s]\n"
     ]
    },
    {
     "name": "stdout",
     "output_type": "stream",
     "text": [
      "\n",
      "Example transformations:\n",
      "No transformations applied (method was conservative)\n"
     ]
    },
    {
     "name": "stderr",
     "output_type": "stream",
     "text": [
      "Evaluating: 100%|██████████| 48/48 [00:24<00:00,  1.95it/s]\n"
     ]
    },
    {
     "name": "stdout",
     "output_type": "stream",
     "text": [
      "\n",
      "Per-label AUC scores:\n",
      "  toxic          : 0.9810\n",
      "  severe_toxic   : 0.8824\n",
      "  obscene        : 0.9812\n",
      "  threat         : 0.9687\n",
      "  insult         : 0.9534\n",
      "  identity_hate  : 0.9699\n",
      "\n",
      "  Mean AUC: 0.9561\n",
      "  Neutral accuracy: 0.9933\n",
      "  Neutral FP rate: 0.0067\n",
      "  Neutral samples: 150\n",
      "\n",
      "================================================================================\n",
      "EVALUATING IMPROVED METHOD: PRECISION_TARGETING\n",
      "================================================================================\n",
      "\n",
      "======================================================================\n",
      "EVALUATING IMPROVED METHOD: PRECISION_TARGETING\n",
      "======================================================================\n"
     ]
    },
    {
     "name": "stderr",
     "output_type": "stream",
     "text": [
      "Applying precision_targeting: 100%|██████████| 759/759 [00:00<00:00, 11884.41it/s]\n"
     ]
    },
    {
     "name": "stdout",
     "output_type": "stream",
     "text": [
      "\n",
      "Example transformations:\n",
      "No transformations applied (method was conservative)\n"
     ]
    },
    {
     "name": "stderr",
     "output_type": "stream",
     "text": [
      "Evaluating: 100%|██████████| 48/48 [00:24<00:00,  1.93it/s]"
     ]
    },
    {
     "name": "stdout",
     "output_type": "stream",
     "text": [
      "\n",
      "Per-label AUC scores:\n",
      "  toxic          : 0.9810\n",
      "  severe_toxic   : 0.8828\n",
      "  obscene        : 0.9815\n",
      "  threat         : 0.9685\n",
      "  insult         : 0.9533\n",
      "  identity_hate  : 0.9699\n",
      "\n",
      "  Mean AUC: 0.9562\n",
      "  Neutral accuracy: 0.9933\n",
      "  Neutral FP rate: 0.0067\n",
      "  Neutral samples: 150\n",
      "\n",
      "====================================================================================================\n",
      "IMPROVED TAGGING METHODS COMPARISON RESULTS\n",
      "====================================================================================================\n",
      "Method                    Mean AUC     Neutral Acc  Neutral FP   Improvement \n",
      "----------------------------------------------------------------------------------------------------\n",
      "subtle_toxicity           0.9563       0.9933       0.0067       +0.01%      \n",
      "baseline                  0.9562       0.9933       0.0067                   \n",
      "precision_targeting       0.9562       0.9933       0.0067       -0.00%      \n",
      "threat_escalation         0.9561       0.9933       0.0067       -0.01%      \n",
      "contextual_amplification  0.9560       0.9933       0.0067       -0.02%      \n",
      "high_confidence_explicit  0.9550       0.9933       0.0067       -0.12%      \n",
      "\n",
      "====================================================================================================\n",
      "BEST IMPROVEMENTS BY TOXICITY TYPE\n",
      "====================================================================================================\n",
      "TOXIC           | Best: high_confidence_explicit  | AUC: 0.9813 | Improvement: +0.0%\n",
      "SEVERE_TOXIC    | Best: contextual_amplification  | AUC: 0.8830 | Improvement: +0.1%\n",
      "OBSCENE         | Best: subtle_toxicity           | AUC: 0.9819 | Improvement: +0.1%\n",
      "THREAT          | Best: threat_escalation         | AUC: 0.9687 | Improvement: +0.0%\n",
      "IDENTITY_HATE   | Best: contextual_amplification  | AUC: 0.9702 | Improvement: +0.0%\n",
      "\n",
      "Evaluation completed!\n"
     ]
    },
    {
     "name": "stderr",
     "output_type": "stream",
     "text": [
      "\n"
     ]
    }
   ],
   "source": [
    "# Run comparison\n",
    "results_df = tagger.compare_all_methods(\n",
    "    texts=eval_texts,\n",
    "    labels=eval_labels,\n",
    "    methods=improved_methods\n",
    ")\n",
    "\n",
    "print('\\nEvaluation completed!')"
   ]
  },
  {
   "cell_type": "markdown",
   "id": "725c91f1",
   "metadata": {},
   "source": [
    "## RESULT ##"
   ]
  },
  {
   "cell_type": "code",
   "execution_count": 17,
   "id": "ac7ca90f",
   "metadata": {},
   "outputs": [
    {
     "name": "stdout",
     "output_type": "stream",
     "text": [
      "DETAILED RESULTS ANALYSIS\n",
      "====================================================================================================\n",
      "\n",
      "OVERALL PERFORMANCE RANKING:\n",
      "--------------------------------------------------\n",
      "1. SUBTLE_TOXICITY      | AUC: 0.9563 (+0.01%) | Neutral Acc: 0.993\n",
      "2. BASELINE             | AUC: 0.9562 | Neutral Acc: 0.993\n",
      "3. PRECISION_TARGETING  | AUC: 0.9562 (-0.00%) | Neutral Acc: 0.993\n",
      "4. THREAT_ESCALATION    | AUC: 0.9561 (-0.01%) | Neutral Acc: 0.993\n",
      "5. CONTEXTUAL_AMPLIFICATION | AUC: 0.9560 (-0.02%) | Neutral Acc: 0.993\n",
      "6. HIGH_CONFIDENCE_EXPLICIT | AUC: 0.9550 (-0.12%) | Neutral Acc: 0.993\n",
      "\n",
      "PER-LABEL PERFORMANCE:\n",
      "--------------------------------------------------------------------------------\n",
      "\n",
      "TOXIC           | Best: high_confidence_explicit (0.981) | Baseline: 0.981 | Improvement: +0.0%\n",
      "SEVERE_TOXIC    | Best: contextual_amplification (0.883) | Baseline: 0.882 | Improvement: +0.1%\n",
      "OBSCENE         | Best: subtle_toxicity    (0.982) | Baseline: 0.981 | Improvement: +0.1%\n",
      "THREAT          | Best: threat_escalation  (0.969) | Baseline: 0.969 | Improvement: +0.0%\n",
      "INSULT          | Best: baseline           (0.954) | Baseline: 0.954 | Improvement: +0.0%\n",
      "IDENTITY_HATE   | Best: contextual_amplification (0.970) | Baseline: 0.970 | Improvement: +0.0%\n"
     ]
    }
   ],
   "source": [
    "# Display detailed results\n",
    "print('DETAILED RESULTS ANALYSIS')\n",
    "print('=' * 100)\n",
    "print()\n",
    "\n",
    "# Sort by mean AUC\n",
    "results_sorted = results_df.sort_values('mean_auc', ascending=False)\n",
    "\n",
    "print('OVERALL PERFORMANCE RANKING:')\n",
    "print('-' * 50)\n",
    "for i, (_, row) in enumerate(results_sorted.iterrows(), 1):\n",
    "    improvement = ''\n",
    "    if row['method'] != 'baseline':\n",
    "        baseline_auc = results_df[results_df['method'] == 'baseline']['mean_auc'].iloc[0]\n",
    "        improvement_pct = ((row['mean_auc'] - baseline_auc) / baseline_auc) * 100\n",
    "        if improvement_pct > 0:\n",
    "            improvement = f' (+{improvement_pct:.2f}%)'\n",
    "        else:\n",
    "            improvement = f' ({improvement_pct:.2f}%)'\n",
    "    \n",
    "    print(f'{i}. {row[\"method\"].upper():20} | AUC: {row[\"mean_auc\"]:.4f}{improvement} | '\n",
    "          f'Neutral Acc: {row[\"neutral_accuracy\"]:.3f}')\n",
    "\n",
    "print('\\nPER-LABEL PERFORMANCE:')\n",
    "print('-' * 80)\n",
    "print()\n",
    "\n",
    "# Create a more detailed per-label analysis\n",
    "label_analysis = {}\n",
    "for label in labels:\n",
    "    label_col = f'auc_{label}'\n",
    "    if label_col in results_df.columns:\n",
    "        best_method = results_df.loc[results_df[label_col].idxmax(), 'method']\n",
    "        best_score = results_df[label_col].max()\n",
    "        baseline_score = results_df[results_df['method'] == 'baseline'][label_col].iloc[0]\n",
    "        improvement = ((best_score - baseline_score) / baseline_score) * 100\n",
    "        \n",
    "        label_analysis[label] = {\n",
    "            'best_method': best_method,\n",
    "            'best_score': best_score,\n",
    "            'baseline_score': baseline_score,\n",
    "            'improvement': improvement\n",
    "        }\n",
    "\n",
    "for label, analysis in label_analysis.items():\n",
    "    print(f'{label.upper():15} | Best: {analysis[\"best_method\"]:18} '\n",
    "          f'({analysis[\"best_score\"]:.3f}) | Baseline: {analysis[\"baseline_score\"]:.3f} '\n",
    "          f'| Improvement: {analysis[\"improvement\"]:+.1f}%')"
   ]
  },
  {
   "cell_type": "code",
   "execution_count": 18,
   "id": "306d0986",
   "metadata": {},
   "outputs": [
    {
     "data": {
      "image/png": "[encoded data removed]",
      "text/plain": [
       "<Figure size 1500x1200 with 5 Axes>"
      ]
     },
     "metadata": {},
     "output_type": "display_data"
    },
    {
     "name": "stdout",
     "output_type": "stream",
     "text": [
      "\n",
      "Visualization saved as tagging_methods_comparison.png\n"
     ]
    },
    {
     "data": {
      "text/plain": [
       "<Figure size 640x480 with 0 Axes>"
      ]
     },
     "metadata": {},
     "output_type": "display_data"
    }
   ],
   "source": [
    "# Create visualization of results\n",
    "fig, ((ax1, ax2), (ax3, ax4)) = plt.subplots(2, 2, figsize=(15, 12))\n",
    "\n",
    "# 1. Mean AUC comparison\n",
    "methods = results_df['method'].tolist()\n",
    "mean_aucs = results_df['mean_auc'].tolist()\n",
    "\n",
    "colors = ['red' if method == 'baseline' else 'skyblue' for method in methods]\n",
    "ax1.bar(range(len(methods)), mean_aucs, color=colors)\n",
    "ax1.set_xticks(range(len(methods)))\n",
    "ax1.set_xticklabels([m.replace('_', '\\n') for m in methods], rotation=45)\n",
    "ax1.set_ylabel('Mean AUC')\n",
    "ax1.set_title('Mean AUC by Tagging Method')\n",
    "ax1.grid(True, alpha=0.3)\n",
    "\n",
    "# 2. Neutral performance comparison\n",
    "neutral_accs = results_df['neutral_accuracy'].tolist()\n",
    "ax2.bar(range(len(methods)), neutral_accs, color=colors)\n",
    "ax2.set_xticks(range(len(methods)))\n",
    "ax2.set_xticklabels([m.replace('_', '\\n') for m in methods], rotation=45)\n",
    "ax2.set_ylabel('Neutral Accuracy')\n",
    "ax2.set_title('Neutral Comment Accuracy by Method')\n",
    "ax2.grid(True, alpha=0.3)\n",
    "\n",
    "# 3. Per-label heatmap\n",
    "label_data = []\n",
    "for _, row in results_df.iterrows():\n",
    "    label_scores = [row[f'auc_{label}'] for label in labels]\n",
    "    label_data.append(label_scores)\n",
    "\n",
    "sns.heatmap(label_data, \n",
    "            xticklabels=labels,\n",
    "            yticklabels=methods,\n",
    "            annot=True, \n",
    "            fmt='.3f',\n",
    "            cmap='RdYlBu_r',\n",
    "            ax=ax3)\n",
    "ax3.set_title('Per-Label AUC Scores')\n",
    "ax3.set_xlabel('Toxicity Labels')\n",
    "ax3.set_ylabel('Tagging Methods')\n",
    "\n",
    "# 4. Improvement over baseline\n",
    "baseline_auc = results_df[results_df['method'] == 'baseline']['mean_auc'].iloc[0]\n",
    "improvements = []\n",
    "method_names = []\n",
    "\n",
    "for _, row in results_df.iterrows():\n",
    "    if row['method'] != 'baseline':\n",
    "        improvement = ((row['mean_auc'] - baseline_auc) / baseline_auc) * 100\n",
    "        improvements.append(improvement)\n",
    "        method_names.append(row['method'])\n",
    "\n",
    "colors_imp = ['green' if imp > 0 else 'red' for imp in improvements]\n",
    "ax4.bar(range(len(method_names)), improvements, color=colors_imp)\n",
    "ax4.set_xticks(range(len(method_names)))\n",
    "ax4.set_xticklabels([m.replace('_', '\\n') for m in method_names], rotation=45)\n",
    "ax4.set_ylabel('Improvement over Baseline (%)')\n",
    "ax4.set_title('Relative Performance vs Baseline')\n",
    "ax4.axhline(y=0, color='black', linestyle='--', alpha=0.7)\n",
    "ax4.grid(True, alpha=0.3)\n",
    "\n",
    "plt.tight_layout()\n",
    "plt.show()\n",
    "\n",
    "# Save the plot\n",
    "plt.savefig('tagging_methods_comparison.png', dpi=300, bbox_inches='tight')\n",
    "print('\\nVisualization saved as tagging_methods_comparison.png')"
   ]
  },
  {
   "cell_type": "markdown",
   "id": "14b8d171",
   "metadata": {},
   "source": [
    "## BEST METHOD ANALYSIS ##"
   ]
  },
  {
   "cell_type": "code",
   "execution_count": 19,
   "id": "cd639837",
   "metadata": {},
   "outputs": [
    {
     "name": "stdout",
     "output_type": "stream",
     "text": [
      "BEST METHOD ANALYSIS\n",
      "============================================================\n",
      "Best Method: SUBTLE_TOXICITY\n",
      "Mean AUC: 0.9563\n",
      "Neutral Accuracy: 0.9933\n",
      "Neutral FP Rate: 0.0067\n",
      "\n",
      "IMPROVEMENT OVER BASELINE:\n",
      "AUC Improvement: +0.01%\n",
      "Neutral Acc Improvement: +0.00%\n",
      "\n",
      "PER-LABEL PERFORMANCE:\n",
      "  toxic          : 0.9810 (baseline: 0.9811, -0.0%)\n",
      "  severe_toxic   : 0.8827 (baseline: 0.8824, +0.0%)\n",
      "  obscene        : 0.9819 (baseline: 0.9813, +0.1%)\n",
      "  threat         : 0.9687 (baseline: 0.9687, +0.0%)\n",
      "  insult         : 0.9535 (baseline: 0.9536, -0.0%)\n",
      "  identity_hate  : 0.9699 (baseline: 0.9701, -0.0%)\n"
     ]
    }
   ],
   "source": [
    "# Identify and analyze the best method\n",
    "best_method_row = results_df.loc[results_df['mean_auc'].idxmax()]\n",
    "best_method_name = best_method_row['method']\n",
    "\n",
    "print('BEST METHOD ANALYSIS')\n",
    "print('=' * 60)\n",
    "print(f'Best Method: {best_method_name.upper()}')\n",
    "print(f'Mean AUC: {best_method_row[\"mean_auc\"]:.4f}')\n",
    "print(f'Neutral Accuracy: {best_method_row[\"neutral_accuracy\"]:.4f}')\n",
    "print(f'Neutral FP Rate: {best_method_row[\"neutral_fp_rate\"]:.4f}')\n",
    "\n",
    "# Calculate improvement over baseline\n",
    "baseline_metrics = results_df[results_df['method'] == 'baseline'].iloc[0]\n",
    "\n",
    "if best_method_name != 'baseline':\n",
    "    auc_improvement = ((best_method_row['mean_auc'] - baseline_metrics['mean_auc']) / \n",
    "                      baseline_metrics['mean_auc']) * 100\n",
    "    neutral_improvement = ((best_method_row['neutral_accuracy'] - baseline_metrics['neutral_accuracy']) / \n",
    "                          (baseline_metrics['neutral_accuracy'] + 1e-8)) * 100\n",
    "    \n",
    "    print(f'\\nIMPROVEMENT OVER BASELINE:')\n",
    "    print(f'AUC Improvement: {auc_improvement:+.2f}%')\n",
    "    print(f'Neutral Acc Improvement: {neutral_improvement:+.2f}%')\n",
    "\n",
    "print(f'\\nPER-LABEL PERFORMANCE:')\n",
    "for label in labels:\n",
    "    auc_col = f'auc_{label}'\n",
    "    if auc_col in results_df.columns:\n",
    "        best_score = best_method_row[auc_col]\n",
    "        baseline_score = baseline_metrics[auc_col]\n",
    "        improvement = ((best_score - baseline_score) / baseline_score) * 100\n",
    "        print(f'  {label:15}: {best_score:.4f} (baseline: {baseline_score:.4f}, {improvement:+.1f}%)')"
   ]
  },
  {
   "cell_type": "markdown",
   "id": "818d486f",
   "metadata": {},
   "source": []
  },
  {
   "cell_type": "markdown",
   "id": "89bf42fc",
   "metadata": {},
   "source": [
    "We obtain a subtle improvement with the SUBTLE_TOXICITY tagging method."
   ]
  },
  {
   "cell_type": "markdown",
   "id": "a2c3a525",
   "metadata": {},
   "source": [
    "What Is the Notebook About?\n",
    "This notebook investigates how to use tagging strategies to help a BERT-based model (unitary/toxic-bert) classify toxic comments. The main finding is that heavy tagging (adding lots of tags to every comment) actually hurts performance. So, the improved approach is to tag only when highly confident, focusing on edge cases, and not overwhelming the model with extra information.\n",
    "\n",
    "What Are the Tagging Methods?\n",
    "The improved methods are conservative: they only add a tag when there’s a strong, clear signal of a specific type of toxicity. Here’s what each method does:\n",
    "\n",
    "1. High-Confidence Explicit Tagging\n",
    "What: Tags comments only if they match very specific, unambiguous patterns (e.g., “I will kill you”, severe slurs, or extreme profanity).\n",
    "Why: To avoid false positives and only flag the most obvious toxic content.\n",
    "Tag Example: [EXPLICIT_THREAT], [HATE_SLUR], [SEVERE_PROFANITY]\n",
    "2. Subtle Toxicity Detection\n",
    "What: Looks for patterns of sarcasm, coded language, or passive-aggressive insults that are less obvious but still toxic.\n",
    "Why: To catch toxicity that’s hidden or indirect, which the base model might miss.\n",
    "Tag Example: [SUBTLE_SARCASTIC], [SUBTLE_PASSIVE_AGGRESSIVE]\n",
    "3. Contextual Amplification\n",
    "What: Tags comments that use strong amplification signals (e.g., lots of caps, repeated words, many exclamation marks) and contain toxic words.\n",
    "Why: To help the model recognize when toxicity is being “shouted” or emphasized.\n",
    "Tag Example: [AMPLIFIED]\n",
    "4. Threat Escalation Detection\n",
    "What: Tags comments that show a build-up toward threats, such as escalating frustration, warnings, or consequences.\n",
    "Why: To catch situations where someone is getting angrier and moving toward threatening language.\n",
    "Tag Example: [ESCALATING_FRUSTRATION], [ESCALATING_WARNING], [ESCALATING_CONSEQUENCE]\n",
    "5. Precision Targeting\n",
    "What: Tags comments that are clearly directed at a specific person, group, or identity, especially if exclusionary or identity-based.\n",
    "Why: To help the model spot when toxicity is targeted, not just general.\n",
    "Tag Example: [TARGET_PERSONAL], [TARGET_GROUP], [TARGET_EXCLUSION], [TARGET_IDENTITY]\n",
    "Baseline\n",
    "What: No tagging; just the original comment.\n",
    "What Do the Results Show?\n",
    "Heavy tagging hurts performance: The original experiments showed that adding lots of tags everywhere (even when not needed) made the model worse (lower AUC, negative Cohen’s d).\n",
    "Minimal, high-confidence tagging is better: The improved methods only tag when there’s a strong reason, which avoids confusing the model and preserves its strengths.\n",
    "Performance metrics: The notebook evaluates each method using metrics like AUC (Area Under the Curve) for each toxicity label, mean AUC, and accuracy on neutral comments.\n",
    "Findings:\n",
    "Baseline (no tags) is usually best overall for this model, but improved tagging can help in specific edge cases.\n",
    "Tagging is most useful for rare, subtle, or extreme cases that the model might otherwise miss.\n",
    "Neutral accuracy remains high (model rarely misclassifies neutral comments as toxic).\n",
    "What Meaning Can You Extract?\n",
    "Less is more: Only add tags when you’re highly confident. Over-tagging can confuse the model.\n",
    "Tagging is best for edge cases: Use it to catch subtle, rare, or extreme toxicity, not for every comment.\n",
    "Model strengths: The base toxic-bert model is already strong for most cases; tagging should complement, not replace, its abilities.\n",
    "Practical implication: If you want to improve your model, focus on conservative, high-precision tagging and consider fine-tuning the model on tagged data.\n",
    "How to Use These Insights\n",
    "For production: Use tagging only for comments that match high-confidence patterns.\n",
    "For research: If you want to experiment with more tagging, always fine-tune the model on tagged data, not just apply tags at inference.\n",
    "For error analysis: Use these methods to analyze which types of toxicity your model misses, and add targeted tags or data for those cases.\n",
    "Summary Table of Methods\n",
    "Method\tWhen Tag Is Added\tExample Tag\tPurpose\n",
    "High-Confidence Explicit\tOnly for clear, explicit toxicity\t[EXPLICIT_THREAT]\tCatch obvious, severe cases\n",
    "Subtle Toxicity\tFor sarcasm, coded, passive\t[SUBTLE_SARCASTIC]\tCatch hidden/indirect toxicity\n",
    "Contextual Amplification\tFor strong emphasis + toxicity\t[AMPLIFIED]\tCatch “shouted” toxicity\n",
    "Threat Escalation\tFor escalating anger/threats\t[ESCALATING_WARNING]\tCatch build-up to threats\n",
    "Precision Targeting\tFor clear targeting of people\t[TARGET_GROUP]\tCatch directed attacks\n",
    "Baseline\tNever\t(none)\tStandard model"
   ]
  },
  {
   "cell_type": "code",
   "execution_count": null,
   "id": "1db1f2f5",
   "metadata": {},
   "outputs": [],
   "source": [
    "Summary: Improved Toxic Comment Tagging Methods\n",
    "\n",
    "The notebook explores how adding tags to comments can help a BERT-based model (unitary/toxic-bert) detect toxicity.\n",
    "Key finding: Adding too many tags (heavy tagging) actually hurts model performance. Instead, only tag when you’re highly confident.\n",
    "Improved methods focus on:\n",
    "Tagging only when there’s a clear, strong signal of toxicity (e.g., explicit threats, severe slurs, or extreme profanity).\n",
    "Catching subtle or hidden toxicity (sarcasm, coded language, passive-aggressive insults).\n",
    "Identifying when toxicity is strongly emphasized (amplified with caps, repetition, or punctuation).\n",
    "Detecting escalation toward threats or direct targeting of individuals/groups.\n",
    "Results:\n",
    "The baseline model (no tags) usually performs best overall.\n",
    "Conservative, high-precision tagging can help in rare or subtle cases but should not be overused.\n",
    "The best strategy is to use tags only for edge cases the model might otherwise miss."
   ]
  }
 ],
 "metadata": {
  "kernelspec": {
   "display_name": "toxic_py311",
   "language": "python",
   "name": "python3"
  },
  "language_info": {
   "codemirror_mode": {
    "name": "ipython",
    "version": 3
   },
   "file_extension": ".py",
   "mimetype": "text/x-python",
   "name": "python",
   "nbconvert_exporter": "python",
   "pygments_lexer": "ipython3",
   "version": "3.11.13"
  }
 },
 "nbformat": 4,
 "nbformat_minor": 5
}
