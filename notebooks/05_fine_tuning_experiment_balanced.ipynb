{
 "cells": [
  {
   "cell_type": "markdown",
   "metadata": {},
   "source": [
    "# Fine-tuning Experiment: Baseline vs SUBTLE_TOXICITY with Balanced Training\n",
    "\n",
    "This notebook tests the effectiveness of SUBTLE_TOXICITY tagging by fine-tuning models with balanced training data and comparing their performance.\n",
    "\n",
    "## Experiment Overview\n",
    "- **Phase 1**: Fine-tune baseline model (no tagging) with balanced training data\n",
    "- **Phase 2**: Fine-tune SUBTLE_TOXICITY tagged model with balanced training data\n",
    "- **Phase 3**: Compare performance and analyze results\n",
    "- **Phase 4**: Generate visualizations and recommendations\n",
    "\n",
    "## Key Features\n",
    "- Uses balanced training sets for fair comparison\n",
    "- Faster training (~45 minutes vs 2+ hours)\n",
    "- Cleaner experimental design\n",
    "- Comprehensive evaluation and analysis"
   ]
  },
  {
   "cell_type": "markdown",
   "metadata": {},
   "source": [
    "## 1. Setup and Imports"
   ]
  },
  {
   "cell_type": "code",
   "execution_count": 1,
   "metadata": {},
   "outputs": [
    {
     "name": "stderr",
     "output_type": "stream",
     "text": [
      "c:\\Users\\analyst4\\AppData\\Local\\anaconda3\\envs\\toxic_py311\\Lib\\site-packages\\tqdm\\auto.py:21: TqdmWarning: IProgress not found. Please update jupyter and ipywidgets. See https://ipywidgets.readthedocs.io/en/stable/user_install.html\n",
      "  from .autonotebook import tqdm as notebook_tqdm\n",
      "c:\\Users\\analyst4\\AppData\\Local\\anaconda3\\envs\\toxic_py311\\Lib\\site-packages\\transformers\\utils\\generic.py:441: FutureWarning: `torch.utils._pytree._register_pytree_node` is deprecated. Please use `torch.utils._pytree.register_pytree_node` instead.\n",
      "  _torch_pytree._register_pytree_node(\n"
     ]
    },
    {
     "name": "stdout",
     "output_type": "stream",
     "text": [
      "Using device: cuda\n"
     ]
    }
   ],
   "source": [
    "import sys\n",
    "import os\n",
    "from pathlib import Path\n",
    "\n",
    "# Add notebook directory to path\n",
    "notebook_dir = Path.cwd()\n",
    "if notebook_dir not in sys.path:\n",
    "    sys.path.append(str(notebook_dir))\n",
    "\n",
    "# Core libraries\n",
    "import torch\n",
    "import pandas as pd\n",
    "import numpy as np\n",
    "import matplotlib.pyplot as plt\n",
    "import seaborn as sns\n",
    "from sklearn.model_selection import train_test_split\n",
    "from sklearn.metrics import roc_auc_score, classification_report\n",
    "import mlflow\n",
    "import mlflow.pytorch\n",
    "from tqdm import tqdm\n",
    "import warnings\n",
    "\n",
    "# Import our tagging class\n",
    "parent_dir = os.path.abspath('..')  # Go up one level from notebooks/\n",
    "sys.path.append(parent_dir)\n",
    "from src.training.toxic_tagging_methods import ToxicCommentTagger, ImprovedToxicCommentTagger\n",
    "\n",
    "# Suppress warnings for cleaner output\n",
    "warnings.filterwarnings('ignore')\n",
    "\n",
    "# Set device for training\n",
    "device = torch.device('cuda' if torch.cuda.is_available() else 'cpu')\n",
    "print(f\"Using device: {device}\")\n",
    "\n",
    "# Set plotting style\n",
    "plt.style.use('seaborn-v0_8')\n",
    "sns.set_palette(\"husl\")"
   ]
  },
  {
   "cell_type": "markdown",
   "metadata": {},
   "source": [
    "## 2. Load and Prepare Data"
   ]
  },
  {
   "cell_type": "code",
   "execution_count": 2,
   "metadata": {},
   "outputs": [
    {
     "name": "stdout",
     "output_type": "stream",
     "text": [
      "Train samples: 159571\n",
      "Test samples: 153164\n",
      "Labels: ['toxic', 'severe_toxic', 'obscene', 'threat', 'insult', 'identity_hate']\n"
     ]
    }
   ],
   "source": [
    "# Load data from the standard directory structure\n",
    "base_dir = Path.cwd().parent if Path.cwd().name == \"notebooks\" else Path.cwd()\n",
    "data_dir = base_dir / \"src\" / \"data\" / \"raw\"\n",
    "\n",
    "# Load CSV files\n",
    "train = pd.read_csv(data_dir / \"train.csv\")\n",
    "test = pd.read_csv(data_dir / \"test.csv\")\n",
    "test_labels = pd.read_csv(data_dir / \"test_labels.csv\")\n",
    "\n",
    "# Define the toxicity labels\n",
    "labels = ['toxic', 'severe_toxic', 'obscene', 'threat', 'insult', 'identity_hate']\n",
    "\n",
    "print(f'Train samples: {len(train)}')\n",
    "print(f'Test samples: {len(test)}')\n",
    "print(f'Labels: {labels}')"
   ]
  },
  {
   "cell_type": "code",
   "execution_count": 3,
   "metadata": {},
   "outputs": [],
   "source": [
    "def prepare_test_for_evaluation(test_df, test_labels_df):\n",
    "    \"\"\"Prepare test data for evaluation by filtering valid samples.\"\"\"\n",
    "    # Filter out samples with -1 labels (invalid for evaluation)\n",
    "    valid_mask = (test_labels_df[labels] != -1).all(axis=1)\n",
    "    print(f'Test samples: {len(test_df)} total, {valid_mask.sum()} valid for evaluation')\n",
    "    return test_df[valid_mask].copy(), test_labels_df[valid_mask].copy()\n",
    "\n",
    "def create_balanced_subset(df, labels, n_per_class=200):\n",
    "    \"\"\"Create balanced subset for fair evaluation.\"\"\"\n",
    "    idxs = set()\n",
    "    print(f'Creating balanced subset with {n_per_class} samples per class...')\n",
    "    \n",
    "    # Sample equal number of examples for each toxicity label\n",
    "    for i, label in enumerate(labels):\n",
    "        class_idxs = np.where(df[label].values == 1)[0]\n",
    "        available = len(class_idxs)\n",
    "        to_sample = min(n_per_class, available)\n",
    "        \n",
    "        if available > 0:\n",
    "            chosen = np.random.choice(class_idxs, to_sample, replace=False)\n",
    "            idxs.update(chosen)\n",
    "            print(f'  {label}: {to_sample}/{available} samples')\n",
    "        else:\n",
    "            print(f'  {label}: 0 samples available!')\n",
    "    \n",
    "    # Add neutral samples (comments with no positive labels)\n",
    "    neutral_idxs = np.where(df[labels].sum(axis=1) == 0)[0]\n",
    "    neutral_available = len(neutral_idxs)\n",
    "    neutral_to_sample = min(n_per_class, neutral_available)\n",
    "    \n",
    "    if neutral_available > 0:\n",
    "        chosen_neutral = np.random.choice(neutral_idxs, neutral_to_sample, replace=False)\n",
    "        idxs.update(chosen_neutral)\n",
    "        print(f'  neutral: {neutral_to_sample}/{neutral_available} samples')\n",
    "    \n",
    "    # Create balanced dataframe\n",
    "    idxs = list(idxs)\n",
    "    balanced_df = df.iloc[idxs].copy()\n",
    "    print(f'Total balanced samples: {len(balanced_df)}')\n",
    "    return balanced_df\n",
    "\n",
    "def create_balanced_training_subset(X_train, y_train, labels, n_per_class=2000):\n",
    "    \"\"\"Create balanced training subset using existing function.\"\"\"\n",
    "    # Create temporary DataFrame to use existing balanced subset function\n",
    "    temp_df = pd.DataFrame({'comment_text': X_train})\n",
    "    temp_df[labels] = y_train\n",
    "\n",
    "    # Use existing function to create balanced subset\n",
    "    balanced_df = create_balanced_subset(temp_df, labels, n_per_class)\n",
    "\n",
    "    # Extract back to arrays for training\n",
    "    X_balanced = balanced_df['comment_text'].values\n",
    "    y_balanced = balanced_df[labels].values\n",
    "\n",
    "    return X_balanced, y_balanced"
   ]
  },
  {
   "cell_type": "code",
   "execution_count": 4,
   "metadata": {},
   "outputs": [
    {
     "name": "stdout",
     "output_type": "stream",
     "text": [
      "Test samples: 153164 total, 63978 valid for evaluation\n",
      "Train size: 143613\n",
      "Validation size: 15958\n",
      "Test evaluation size: 63978\n"
     ]
    }
   ],
   "source": [
    "# Prepare evaluation datasets\n",
    "test_eval, test_labels_eval = prepare_test_for_evaluation(test, test_labels)\n",
    "\n",
    "# Split training data into train and validation sets\n",
    "X = train['comment_text'].values\n",
    "y = train[labels].values\n",
    "\n",
    "X_train, X_val, y_train, y_val = train_test_split(\n",
    "    X, y, test_size=0.1, random_state=42, stratify=y[:, 0]\n",
    ")\n",
    "\n",
    "print(f'Train size: {len(X_train)}')\n",
    "print(f'Validation size: {len(X_val)}')\n",
    "print(f'Test evaluation size: {len(test_eval)}')"
   ]
  },
  {
   "cell_type": "code",
   "execution_count": 5,
   "metadata": {},
   "outputs": [
    {
     "name": "stdout",
     "output_type": "stream",
     "text": [
      "Creating balanced subset with 150 samples per class...\n",
      "  toxic: 150/1529 samples\n",
      "  severe_toxic: 149/149 samples\n",
      "  obscene: 150/847 samples\n",
      "  threat: 50/50 samples\n",
      "  insult: 150/800 samples\n",
      "  identity_hate: 150/153 samples\n",
      "  neutral: 150/14355 samples\n",
      "Total balanced samples: 759\n",
      "\n",
      "Balanced validation set created\n",
      "Class distribution:\n",
      "  toxic: 584 samples\n",
      "  severe_toxic: 149 samples\n",
      "  obscene: 451 samples\n",
      "  threat: 50 samples\n",
      "  insult: 439 samples\n",
      "  identity_hate: 153 samples\n"
     ]
    }
   ],
   "source": [
    "# Create balanced evaluation sets\n",
    "np.random.seed(42)  # For reproducibility\n",
    "\n",
    "# Create balanced validation set for evaluation\n",
    "val_df_temp = pd.DataFrame({'comment_text': X_val})\n",
    "val_df_temp[labels] = y_val\n",
    "balanced_val_df = create_balanced_subset(val_df_temp, labels, n_per_class=150)\n",
    "\n",
    "print('\\nBalanced validation set created')\n",
    "print('Class distribution:')\n",
    "for label in labels:\n",
    "    count = balanced_val_df[label].sum()\n",
    "    print(f'  {label}: {count} samples')"
   ]
  },
  {
   "cell_type": "markdown",
   "metadata": {},
   "source": [
    "## 3. Create Balanced Training Dataset"
   ]
  },
  {
   "cell_type": "code",
   "execution_count": 6,
   "metadata": {},
   "outputs": [
    {
     "name": "stdout",
     "output_type": "stream",
     "text": [
      "Creating balanced subset with 2000 samples per class...\n",
      "  toxic: 2000/13765 samples\n",
      "  severe_toxic: 1446/1446 samples\n",
      "  obscene: 2000/7602 samples\n",
      "  threat: 428/428 samples\n",
      "  insult: 2000/7077 samples\n",
      "  identity_hate: 1252/1252 samples\n",
      "  neutral: 2000/128991 samples\n",
      "Total balanced samples: 8567\n",
      "\n",
      "Balanced training set created\n",
      "Training class distribution:\n",
      "  toxic: 6216 samples\n",
      "  severe_toxic: 1446 samples\n",
      "  obscene: 4790 samples\n",
      "  threat: 428 samples\n",
      "  insult: 4606 samples\n",
      "  identity_hate: 1252 samples\n"
     ]
    }
   ],
   "source": [
    "# Create balanced training subset for faster and fairer training\n",
    "np.random.seed(42)  # For reproducibility\n",
    "X_train_balanced, y_train_balanced = create_balanced_training_subset(\n",
    "    X_train, y_train, labels, n_per_class=2000\n",
    ")\n",
    "\n",
    "print('\\nBalanced training set created')\n",
    "print('Training class distribution:')\n",
    "for i, label in enumerate(labels):\n",
    "    count = y_train_balanced[:, i].sum()\n",
    "    print(f'  {label}: {count} samples')"
   ]
  },
  {
   "cell_type": "markdown",
   "metadata": {},
   "source": [
    "## 4. Initialize Tagger and MLflow"
   ]
  },
  {
   "cell_type": "code",
   "execution_count": 7,
   "metadata": {},
   "outputs": [
    {
     "name": "stdout",
     "output_type": "stream",
     "text": [
      "Initialized ImprovedToxicCommentTagger with unitary/toxic-bert on cuda\n",
      "Evaluating on 759 balanced samples\n",
      "Label distribution in evaluation set:\n",
      "  toxic: 584 positive samples\n",
      "  severe_toxic: 149 positive samples\n",
      "  obscene: 451 positive samples\n",
      "  threat: 50 positive samples\n",
      "  insult: 439 positive samples\n",
      "  identity_hate: 153 positive samples\n"
     ]
    }
   ],
   "source": [
    "# Initialize the improved toxic comment tagger\n",
    "tagger = ImprovedToxicCommentTagger(\n",
    "    base_model_name='unitary/toxic-bert',\n",
    "    device=str(device)\n",
    ")\n",
    "\n",
    "# Set MLflow experiment for tracking\n",
    "mlflow.set_experiment('Toxic_BERT_Fine_Tuning_Balanced')\n",
    "\n",
    "# Prepare evaluation data from balanced validation set\n",
    "eval_texts = balanced_val_df['comment_text'].tolist()\n",
    "eval_labels = balanced_val_df[labels].values\n",
    "\n",
    "print(f'Evaluating on {len(eval_texts)} balanced samples')\n",
    "print(f'Label distribution in evaluation set:')\n",
    "for i, label in enumerate(labels):\n",
    "    pos_samples = eval_labels[:, i].sum()\n",
    "    print(f'  {label}: {pos_samples} positive samples')"
   ]
  },
  {
   "cell_type": "markdown",
   "metadata": {},
   "source": [
    "## 5. Import Fine-tuning Framework"
   ]
  },
  {
   "cell_type": "code",
   "execution_count": 8,
   "metadata": {},
   "outputs": [
    {
     "name": "stdout",
     "output_type": "stream",
     "text": [
      "Fine-tuning framework imported successfully!\n",
      "Ready to run baseline vs SUBTLE_TOXICITY comparison with balanced training data\n"
     ]
    }
   ],
   "source": [
    "# Import the integrated fine-tuning module\n",
    "\n",
    "from src.training.integrated_fine_tuning import run_fine_tuning_experiment\n",
    "print(\"Fine-tuning framework imported successfully!\")\n",
    "print(\"Ready to run baseline vs SUBTLE_TOXICITY comparison with balanced training data\")"
   ]
  },
  {
   "cell_type": "markdown",
   "metadata": {},
   "source": [
    "## 6. Configure Experiment Parameters"
   ]
  },
  {
   "cell_type": "code",
   "execution_count": 9,
   "metadata": {},
   "outputs": [
    {
     "name": "stdout",
     "output_type": "stream",
     "text": [
      "Experiment Configuration:\n",
      "  Epochs: 3\n",
      "  Batch Size: 16\n",
      "  Learning Rate: 2e-05\n",
      "  Device: cuda\n",
      "  Original training samples: 143613\n",
      "  Balanced training samples: 8567\n",
      "  Validation samples: 15958\n",
      "  Evaluation samples: 759\n",
      "Expected training time: ~45 minutes (much faster than full dataset)\n"
     ]
    }
   ],
   "source": [
    "# Configure experiment parameters for balanced training\n",
    "EPOCHS = 3\n",
    "BATCH_SIZE = 16  \n",
    "LEARNING_RATE = 2e-5\n",
    "\n",
    "print(f\"Experiment Configuration:\")\n",
    "print(f\"  Epochs: {EPOCHS}\")\n",
    "print(f\"  Batch Size: {BATCH_SIZE}\")\n",
    "print(f\"  Learning Rate: {LEARNING_RATE}\")\n",
    "print(f\"  Device: {device}\")\n",
    "print(f\"  Original training samples: {len(X_train)}\")\n",
    "print(f\"  Balanced training samples: {len(X_train_balanced)}\")\n",
    "print(f\"  Validation samples: {len(X_val)}\")\n",
    "print(f\"  Evaluation samples: {len(eval_texts)}\")\n",
    "print(f\"Expected training time: ~45 minutes (much faster than full dataset)\")"
   ]
  },
  {
   "cell_type": "markdown",
   "metadata": {},
   "source": [
    "## 7. Run Fine-tuning Experiment\n",
    "\n",
    "This will run the complete experiment comparing baseline and SUBTLE_TOXICITY models using balanced training data."
   ]
  },
  {
   "cell_type": "code",
   "execution_count": null,
   "metadata": {
    "scrolled": true
   },
   "outputs": [
    {
     "name": "stdout",
     "output_type": "stream",
     "text": [
      "🚀 STARTING FINE-TUNING EXPERIMENT\n",
      "================================================================================\n",
      "FineTuningManager initialized with unitary/toxic-bert on cuda\n",
      "\n",
      "🔵 PHASE 1: BASELINE MODEL FINE-TUNING\n",
      "\n",
      "============================================================\n",
      "PREPARING TRAINING DATA: BASELINE\n",
      "============================================================\n",
      "Using baseline (no tagging)\n",
      "Data prepared:\n",
      "  Train: 8567 samples\n",
      "  Validation: 15958 samples\n",
      "\n",
      "============================================================\n",
      "FINE-TUNING MODEL: BASELINE\n",
      "============================================================\n"
     ]
    },
    {
     "name": "stderr",
     "output_type": "stream",
     "text": [
      "W0807 14:16:57.250000 25456 site-packages\\torch\\distributed\\elastic\\multiprocessing\\redirects.py:29] NOTE: Redirects are currently not supported in Windows or MacOs.\n"
     ]
    },
    {
     "name": "stdout",
     "output_type": "stream",
     "text": [
      "\n",
      "Epoch 1/3\n",
      "----------------------------------------\n"
     ]
    },
    {
     "name": "stderr",
     "output_type": "stream",
     "text": [
      "Training:  17%|█▋        | 89/536 [07:48<38:55,  5.23s/it, loss=0.2489]"
     ]
    }
   ],
   "source": [
    "# Run the complete fine-tuning experiment with balanced training data\n",
    "results, ft_manager = run_fine_tuning_experiment(\n",
    "    tagger=tagger,\n",
    "    labels=labels,\n",
    "    device=device,\n",
    "    X_train=X_train_balanced,  # Use balanced training data\n",
    "    y_train=y_train_balanced,  # Use balanced training labels\n",
    "    X_val=X_val,\n",
    "    y_val=y_val,\n",
    "    eval_texts=eval_texts,\n",
    "    eval_labels=eval_labels,\n",
    "    epochs=EPOCHS,\n",
    "    batch_size=BATCH_SIZE,\n",
    "    learning_rate=LEARNING_RATE\n",
    ")"
   ]
  },
  {
   "cell_type": "markdown",
   "metadata": {},
   "source": [
    "## 8. Analyze Results"
   ]
  },
  {
   "cell_type": "code",
   "execution_count": null,
   "metadata": {},
   "outputs": [],
   "source": [
    "# Extract key results from the experiment\n",
    "baseline_auc = results['baseline']['results']['test_auc']\n",
    "tagged_auc = results['subtle_toxicity']['results']['test_auc']\n",
    "improvement = results['comparison']['overall']['improvement']\n",
    "improvement_pct = results['comparison']['overall']['improvement_pct']\n",
    "\n",
    "print(f\"EXPERIMENT RESULTS SUMMARY\")\n",
    "print(f\"={'='*50}\")\n",
    "print(f\"Baseline AUC:           {baseline_auc:.4f}\")\n",
    "print(f\"SUBTLE_TOXICITY AUC:    {tagged_auc:.4f}\")\n",
    "print(f\"Improvement:            {improvement:+.4f} ({improvement_pct:+.2f}%)\")\n",
    "\n",
    "# Determine result interpretation\n",
    "if improvement > 0.01:\n",
    "    print(f\"RESULT: SUBTLE_TOXICITY tagging shows meaningful improvement!\")\n",
    "    print(f\"Recommendation: Use the SUBTLE_TOXICITY model for production\")\n",
    "elif improvement > -0.01:\n",
    "    print(f\"RESULT: SUBTLE_TOXICITY tagging shows neutral results\")\n",
    "    print(f\"Recommendation: Consider other tagging methods or stick with baseline\")\n",
    "else:\n",
    "    print(f\"RESULT: SUBTLE_TOXICITY tagging hurts performance\")\n",
    "    print(f\"Recommendation: Use baseline model for production\")"
   ]
  },
  {
   "cell_type": "code",
   "execution_count": null,
   "metadata": {},
   "outputs": [],
   "source": [
    "# Detailed per-label analysis\n",
    "print(f\"PER-LABEL PERFORMANCE ANALYSIS\")\n",
    "print(f\"={'='*60}\")\n",
    "\n",
    "label_comparisons = results['comparison']['per_label']\n",
    "\n",
    "# Sort labels by improvement for better visualization\n",
    "sorted_labels = sorted(label_comparisons.items(), key=lambda x: x[1]['improvement'], reverse=True)\n",
    "\n",
    "print(f\"{'Label':<15} {'Baseline':<10} {'Tagged':<10} {'Improvement':<15} {'Status':<10}\")\n",
    "print(f\"{'-'*70}\")\n",
    "\n",
    "for label, metrics in sorted_labels:\n",
    "    baseline_val = metrics['baseline']\n",
    "    tagged_val = metrics['tagged']\n",
    "    improvement_val = metrics['improvement']\n",
    "    improvement_pct_val = metrics['improvement_pct']\n",
    "    \n",
    "    # Determine status based on improvement\n",
    "    if improvement_val > 0.01:\n",
    "        status = \"Better\"\n",
    "    elif improvement_val > -0.01:\n",
    "        status = \"Neutral\"\n",
    "    else:\n",
    "        status = \"Worse\"\n",
    "    \n",
    "    print(f\"{label:<15} {baseline_val:<10.4f} {tagged_val:<10.4f} \"\n",
    "          f\"{improvement_val:+.4f} ({improvement_pct_val:+.1f}%) {status:<10}\")"
   ]
  },
  {
   "cell_type": "code",
   "execution_count": null,
   "metadata": {},
   "outputs": [],
   "source": [
    "# Neutral comment analysis\n",
    "baseline_neutral = results['baseline']['results']['neutral_analysis']\n",
    "tagged_neutral = results['subtle_toxicity']['results']['neutral_analysis']\n",
    "\n",
    "print(f\"NEUTRAL COMMENT PERFORMANCE\")\n",
    "print(f\"={'='*40}\")\n",
    "print(f\"Total neutral comments: {baseline_neutral['total_neutral']}\")\n",
    "print(f\"Baseline Model:\")\n",
    "print(f\"  Correctly classified: {baseline_neutral['correct_neutral']}\")\n",
    "print(f\"  Accuracy: {baseline_neutral['neutral_accuracy']:.4f}\")\n",
    "print(f\"  False positive rate: {baseline_neutral['fp_rate']:.4f}\")\n",
    "print(f\"SUBTLE_TOXICITY Model:\")\n",
    "print(f\"  Correctly classified: {tagged_neutral['correct_neutral']}\")\n",
    "print(f\"  Accuracy: {tagged_neutral['neutral_accuracy']:.4f}\")\n",
    "print(f\"  False positive rate: {tagged_neutral['fp_rate']:.4f}\")\n",
    "\n",
    "# Calculate change in neutral performance\n",
    "neutral_accuracy_change = tagged_neutral['neutral_accuracy'] - baseline_neutral['neutral_accuracy']\n",
    "if abs(neutral_accuracy_change) > 0.01:\n",
    "    if neutral_accuracy_change > 0:\n",
    "        print(f\"SUBTLE_TOXICITY improved neutral comment handling by {neutral_accuracy_change:+.3f}\")\n",
    "    else:\n",
    "        print(f\"SUBTLE_TOXICITY slightly hurt neutral comment handling by {neutral_accuracy_change:.3f}\")\n",
    "else:\n",
    "    print(f\"Neutral comment performance is similar between models\")"
   ]
  },
  {
   "cell_type": "markdown",
   "metadata": {},
   "source": [
    "## 9. Training Visualizations"
   ]
  },
  {
   "cell_type": "code",
   "execution_count": null,
   "metadata": {},
   "outputs": [],
   "source": [
    "# Plot training history comparison\n",
    "training_plot = ft_manager.plot_training_history(['baseline', 'subtle_toxicity'])\n",
    "plt.show()"
   ]
  },
  {
   "cell_type": "code",
   "execution_count": null,
   "metadata": {},
   "outputs": [],
   "source": [
    "# Create a summary comparison chart\n",
    "fig, axes = plt.subplots(1, 2, figsize=(15, 6))\n",
    "\n",
    "# Overall AUC comparison\n",
    "methods = ['Baseline', 'SUBTLE_TOXICITY']\n",
    "aucs = [baseline_auc, tagged_auc]\n",
    "colors = ['skyblue', 'lightcoral']\n",
    "\n",
    "bars = axes[0].bar(methods, aucs, color=colors, alpha=0.7, edgecolor='black')\n",
    "axes[0].set_title('Overall AUC Comparison', fontsize=14, fontweight='bold')\n",
    "axes[0].set_ylabel('AUC Score')\n",
    "axes[0].set_ylim(0.95, 1.0)\n",
    "\n",
    "# Add value labels on bars\n",
    "for bar, auc in zip(bars, aucs):\n",
    "    axes[0].text(bar.get_x() + bar.get_width()/2, bar.get_height() + 0.001, \n",
    "                f'{auc:.4f}', ha='center', va='bottom', fontweight='bold')\n",
    "\n",
    "# Per-label improvements\n",
    "label_names = list(label_comparisons.keys())\n",
    "improvements = [label_comparisons[label]['improvement'] for label in label_names]\n",
    "\n",
    "bar_colors = ['green' if imp > 0 else 'red' for imp in improvements]\n",
    "bars2 = axes[1].bar(range(len(label_names)), improvements, color=bar_colors, alpha=0.7)\n",
    "axes[1].set_title('Per-Label AUC Improvements', fontsize=14, fontweight='bold')\n",
    "axes[1].set_ylabel('AUC Improvement')\n",
    "axes[1].set_xticks(range(len(label_names)))\n",
    "axes[1].set_xticklabels(label_names, rotation=45, ha='right')\n",
    "axes[1].axhline(y=0, color='black', linestyle='-', alpha=0.3)\n",
    "\n",
    "# Add value labels\n",
    "for bar, imp in zip(bars2, improvements):\n",
    "    axes[1].text(bar.get_x() + bar.get_width()/2, bar.get_height() + (0.001 if imp > 0 else -0.003), \n",
    "                f'{imp:+.3f}', ha='center', va='bottom' if imp > 0 else 'top', fontsize=10)\n",
    "\n",
    "plt.tight_layout()\n",
    "plt.show()"
   ]
  },
  {
   "cell_type": "markdown",
   "metadata": {},
   "source": [
    "## 10. Model Selection and Recommendations"
   ]
  },
  {
   "cell_type": "code",
   "execution_count": null,
   "metadata": {},
   "outputs": [],
   "source": [
    "# Determine best model and provide recommendations\n",
    "print(f\"FINAL RECOMMENDATIONS\")\n",
    "print(f\"={'='*50}\")\n",
    "\n",
    "if improvement > 0.005:  # Meaningful improvement threshold\n",
    "    best_model = results['subtle_toxicity']['model']\n",
    "    print(f\"RECOMMENDATION: Use SUBTLE_TOXICITY model\")\n",
    "    print(f\"Benefits:\")\n",
    "    print(f\"   - Overall AUC improvement: {improvement:+.4f} ({improvement_pct:+.2f}%)\")\n",
    "    \n",
    "    # Show best improved labels\n",
    "    best_improvements = sorted(label_comparisons.items(), \n",
    "                              key=lambda x: x[1]['improvement'], reverse=True)[:3]\n",
    "    print(f\"   - Best improvements in:\")\n",
    "    for label, metrics in best_improvements:\n",
    "        if metrics['improvement'] > 0.005:\n",
    "            print(f\"     * {label}: +{metrics['improvement']:.4f} ({metrics['improvement_pct']:+.1f}%)\")\n",
    "    \n",
    "    print(f\"Next Steps:\")\n",
    "    print(f\"   1. Save the SUBTLE_TOXICITY model for production use\")\n",
    "    print(f\"   2. Consider testing on larger evaluation sets\")\n",
    "    print(f\"   3. Explore combining with other tagging methods\")\n",
    "    \n",
    "else:\n",
    "    best_model = results['baseline']['model']\n",
    "    print(f\"RECOMMENDATION: Use baseline model\")\n",
    "    print(f\"Analysis:\")\n",
    "    if improvement > -0.005:\n",
    "        print(f\"   - SUBTLE_TOXICITY shows neutral results ({improvement:+.4f})\")\n",
    "        print(f\"   - No significant performance gain from tagging\")\n",
    "    else:\n",
    "        print(f\"   - SUBTLE_TOXICITY hurts performance ({improvement:+.4f})\")\n",
    "        print(f\"   - Tagging may be adding noise to the model\")\n",
    "    \n",
    "    print(f\"Next Steps:\")\n",
    "    print(f\"   1. Use baseline model for production\")\n",
    "    print(f\"   2. Try other tagging methods (EXPLICIT_MARKERS, CONTEXTUAL_INTENSITY)\")\n",
    "    print(f\"   3. Consider ensemble approaches\")\n",
    "    print(f\"   4. Analyze why tagging didn't help\")\n",
    "\n",
    "print(f\"Model Artifacts:\")\n",
    "print(f\"   - Baseline model saved as: fine_tuned_baseline_model/\")\n",
    "print(f\"   - SUBTLE_TOXICITY model saved as: fine_tuned_subtle_toxicity_model/\")\n",
    "print(f\"   - Training plots saved as: training_history_comparison.png\")\n",
    "print(f\"   - MLflow experiment: Toxic_BERT_Fine_Tuning_Balanced\")"
   ]
  },
  {
   "cell_type": "markdown",
   "metadata": {},
   "source": [
    "## 11. Optional: Test Best Model on Sample Texts"
   ]
  },
  {
   "cell_type": "code",
   "execution_count": null,
   "metadata": {},
   "outputs": [],
   "source": [
    "# Test the best model on some sample texts\n",
    "sample_texts = [\n",
    "    \"This is a great article, thanks for sharing!\",\n",
    "    \"You are such an idiot, go kill yourself\",\n",
    "    \"I disagree with your opinion but respect your right to have it\",\n",
    "    \"What a stupid waste of time this article is\",\n",
    "    \"Can you please provide more information about this topic?\"\n",
    "]\n",
    "\n",
    "print(f\"TESTING BEST MODEL ON SAMPLE TEXTS\")\n",
    "print(f\"={'='*60}\")\n",
    "\n",
    "# Determine which model to use based on results\n",
    "model_name = 'subtle_toxicity' if improvement > 0.005 else 'baseline'\n",
    "print(f\"Using {model_name.upper()} model for predictions\\n\")\n",
    "\n",
    "# Use the tagger's predict method for demonstration\n",
    "# In practice, you would load the fine-tuned model\n",
    "predictions = tagger.predict(sample_texts)\n",
    "\n",
    "for i, (text, pred) in enumerate(zip(sample_texts, predictions)):\n",
    "    print(f\"Text {i+1}: {text}\")\n",
    "    print(f\"Predictions:\")\n",
    "    for j, label in enumerate(labels):\n",
    "        score = pred[j]\n",
    "        status = \"TOXIC\" if score > 0.5 else \"SAFE\"\n",
    "        print(f\"  {label:15}: {score:.3f} ({status})\")\n",
    "    print(f\"{'-'*50}\\n\")"
   ]
  },
  {
   "cell_type": "markdown",
   "metadata": {},
   "source": [
    "## 12. Experiment Summary"
   ]
  },
  {
   "cell_type": "code",
   "execution_count": null,
   "metadata": {},
   "outputs": [],
   "source": [
    "# Final experiment summary\n",
    "print(f\"EXPERIMENT SUMMARY\")\n",
    "print(f\"={'='*50}\")\n",
    "print(f\"Experiment: Baseline vs SUBTLE_TOXICITY Fine-tuning with Balanced Training\")\n",
    "print(f\"Dataset: Kaggle Toxic Comment Classification\")\n",
    "print(f\"Base Model: unitary/toxic-bert\")\n",
    "print(f\"Original Training Samples: {len(X_train):,}\")\n",
    "print(f\"Balanced Training Samples: {len(X_train_balanced):,}\")\n",
    "print(f\"Validation Samples: {len(X_val):,}\")\n",
    "print(f\"Evaluation Samples: {len(eval_texts):,}\")\n",
    "print(f\"Training Configuration:\")\n",
    "print(f\"  Epochs: {EPOCHS}\")\n",
    "print(f\"  Batch Size: {BATCH_SIZE}\")\n",
    "print(f\"  Learning Rate: {LEARNING_RATE}\")\n",
    "print(f\"  Device: {device}\")\n",
    "print(f\"Results:\")\n",
    "print(f\"  Baseline AUC: {baseline_auc:.4f}\")\n",
    "print(f\"  SUBTLE_TOXICITY AUC: {tagged_auc:.4f}\")\n",
    "print(f\"  Improvement: {improvement:+.4f} ({improvement_pct:+.2f}%)\")\n",
    "print(f\"Conclusion: {'SUBTLE_TOXICITY is better' if improvement > 0.005 else 'Baseline is better or equivalent'}\")\n",
    "print(f\"Experiment completed successfully!\")"
   ]
  },
  {
   "cell_type": "markdown",
   "metadata": {},
   "source": [
    "## 13. Additional Analysis (Optional)"
   ]
  },
  {
   "cell_type": "code",
   "execution_count": null,
   "metadata": {},
   "outputs": [],
   "source": [
    "# Optional: Analyze which types of comments benefit most from tagging\n",
    "print(\"ADDITIONAL ANALYSIS: Comment Types That Benefit From Tagging\")\n",
    "print(\"=\" * 65)\n",
    "\n",
    "# This analysis would require examining specific examples\n",
    "# where the tagged model performs better than baseline\n",
    "print(\"This section could include:\")\n",
    "print(\"  - Examples where SUBTLE_TOXICITY model performs better\")\n",
    "print(\"  - Analysis of comment length vs tagging effectiveness\")\n",
    "print(\"  - Correlation between tagging frequency and improvement\")\n",
    "print(\"  - Error analysis comparing both models\")\n",
    "print(\"For now, refer to the detailed results above for insights.\")"
   ]
  }
 ],
 "metadata": {
  "kernelspec": {
   "display_name": "toxic_py311",
   "language": "python",
   "name": "python3"
  },
  "language_info": {
   "codemirror_mode": {
    "name": "ipython",
    "version": 3
   },
   "file_extension": ".py",
   "mimetype": "text/x-python",
   "name": "python",
   "nbconvert_exporter": "python",
   "pygments_lexer": "ipython3",
   "version": "3.11.13"
  }
 },
 "nbformat": 4,
 "nbformat_minor": 4
}
