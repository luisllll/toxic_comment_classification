{
 "cells": [
  {
   "cell_type": "markdown",
   "id": "766a06f9",
   "metadata": {},
   "source": [
    "Toxic-BERT Enhancement with Tagging Methods\n",
    "===========================================\n",
    "\n",
    "This script implements and evaluates different tagging strategies to improve \n",
    "the performance of `unitary/toxic-bert`.\n",
    "\n",
    "Strategy Overview:\n",
    "1. Explicit Toxicity Markers: Add toxicity type tags ([THREAT][INSULT])\n",
    "2. Contextual Intensity Tagging: Add intensity markers ([INTENSITY:HIGH][CAPS:HEAVY])\n",
    "3. Target-Oriented Tagging: Identify attack targets ([TARGET:PERSON][DIRECTION:DIRECT])\n",
    "4. Linguistic Feature Tagging: Add structural features ([LENGTH:SHORT][QUESTION])\n",
    "5. Semantic Context Tagging: Add domain context ([CONTEXT:POLITICAL][EMOTION:ANGER])\n",
    "\n",
    "Each method aims to provide additional context to help the model better \n",
    "understand and classify toxic comments."
   ]
  },
  {
   "cell_type": "code",
   "execution_count": null,
   "id": "a53e9efe",
   "metadata": {},
   "outputs": [],
   "source": [
    "import sys\n",
    "import os\n",
    "from pathlib import Path\n",
    "\n",
    "notebook_dir = Path.cwd()\n",
    "if notebook_dir not in sys.path:\n",
    "    sys.path.append(str(notebook_dir))\n",
    "\n",
    "import torch\n",
    "import pandas as pd\n",
    "import numpy as np\n",
    "import matplotlib.pyplot as plt\n",
    "import seaborn as sns\n",
    "from sklearn.model_selection import train_test_split\n",
    "from sklearn.metrics import roc_auc_score, classification_report\n",
    "import mlflow\n",
    "import mlflow.pytorch\n",
    "from tqdm import tqdm\n",
    "import warnings\n",
    "\n",
    "\n",
    "# Import our tagging class\n",
    "parent_dir = os.path.abspath('..')  # Un nivel arriba desde notebooks/\n",
    "sys.path.append(parent_dir)\n",
    "from src.training.toxic_tagging_methods import ToxicCommentTagger, ImprovedToxicCommentTagger\n",
    "\n",
    "\n",
    "warnings.filterwarnings('ignore')"
   ]
  },
  {
   "cell_type": "code",
   "execution_count": 16,
   "id": "2339222a",
   "metadata": {},
   "outputs": [
    {
     "name": "stdout",
     "output_type": "stream",
     "text": [
      "Using device: cuda\n"
     ]
    }
   ],
   "source": [
    "\n",
    "\n",
    "# Set device\n",
    "device = torch.device('cuda' if torch.cuda.is_available() else 'cpu')\n",
    "print(f\"Using device: {device}\")"
   ]
  },
  {
   "cell_type": "markdown",
   "id": "876e2314",
   "metadata": {},
   "source": [
    "## LOAD DATA ##"
   ]
  },
  {
   "cell_type": "code",
   "execution_count": 17,
   "id": "1d6b06b3",
   "metadata": {},
   "outputs": [
    {
     "name": "stdout",
     "output_type": "stream",
     "text": [
      "Train samples: 159571\n",
      "Test samples: 153164\n",
      "Labels: ['toxic', 'severe_toxic', 'obscene', 'threat', 'insult', 'identity_hate']\n"
     ]
    }
   ],
   "source": [
    "# Load data\n",
    "base_dir = Path.cwd().parent if Path.cwd().name == \"notebooks\" else Path.cwd()\n",
    "data_dir = base_dir / \"src\" / \"data\" / \"raw\"\n",
    "\n",
    "train = pd.read_csv(data_dir / \"train.csv\")\n",
    "test = pd.read_csv(data_dir / \"test.csv\")\n",
    "test_labels = pd.read_csv(data_dir / \"test_labels.csv\")\n",
    "\n",
    "labels = ['toxic', 'severe_toxic', 'obscene', 'threat', 'insult', 'identity_hate']\n",
    "\n",
    "print(f'Train samples: {len(train)}')\n",
    "print(f'Test samples: {len(test)}')\n",
    "print(f'Labels: {labels}')"
   ]
  },
  {
   "cell_type": "markdown",
   "id": "82e26298",
   "metadata": {},
   "source": [
    "## UTILITIES ##"
   ]
  },
  {
   "cell_type": "code",
   "execution_count": 18,
   "id": "6767caf3",
   "metadata": {},
   "outputs": [],
   "source": [
    "def prepare_test_for_evaluation(test_df, test_labels_df):\n",
    "    \"\"\"Prepare test data for evaluation by filtering valid samples.\"\"\"\n",
    "    valid_mask = (test_labels_df[labels] != -1).all(axis=1)\n",
    "    print(f'Test samples: {len(test_df)} total, {valid_mask.sum()} valid for evaluation')\n",
    "    return test_df[valid_mask].copy(), test_labels_df[valid_mask].copy()\n",
    "\n",
    "def create_balanced_subset(df, labels, n_per_class=200):\n",
    "    \"\"\"Create balanced subset for fair evaluation.\"\"\"\n",
    "    idxs = set()\n",
    "    print(f'Creating balanced subset with {n_per_class} samples per class...')\n",
    "    \n",
    "    for i, label in enumerate(labels):\n",
    "        class_idxs = np.where(df[label].values == 1)[0]\n",
    "        available = len(class_idxs)\n",
    "        to_sample = min(n_per_class, available)\n",
    "        \n",
    "        if available > 0:\n",
    "            chosen = np.random.choice(class_idxs, to_sample, replace=False)\n",
    "            idxs.update(chosen)\n",
    "            print(f'  {label}: {to_sample}/{available} samples')\n",
    "        else:\n",
    "            print(f'  {label}: 0 samples available!')\n",
    "    \n",
    "    # Add neutral samples\n",
    "    neutral_idxs = np.where(df[labels].sum(axis=1) == 0)[0]\n",
    "    neutral_available = len(neutral_idxs)\n",
    "    neutral_to_sample = min(n_per_class, neutral_available)\n",
    "    \n",
    "    if neutral_available > 0:\n",
    "        chosen_neutral = np.random.choice(neutral_idxs, neutral_to_sample, replace=False)\n",
    "        idxs.update(chosen_neutral)\n",
    "        print(f'  neutral: {neutral_to_sample}/{neutral_available} samples')\n",
    "    \n",
    "    idxs = list(idxs)\n",
    "    balanced_df = df.iloc[idxs].copy()\n",
    "    print(f'Total balanced samples: {len(balanced_df)}')\n",
    "    return balanced_df"
   ]
  },
  {
   "cell_type": "markdown",
   "id": "e9cadadc",
   "metadata": {},
   "source": [
    "## PREPARE FOR EVALUATION ##"
   ]
  },
  {
   "cell_type": "code",
   "execution_count": 19,
   "id": "d4bf891e",
   "metadata": {},
   "outputs": [
    {
     "name": "stdout",
     "output_type": "stream",
     "text": [
      "Test samples: 153164 total, 63978 valid for evaluation\n",
      "Train size: 143613\n",
      "Validation size: 15958\n",
      "Test evaluation size: 63978\n"
     ]
    }
   ],
   "source": [
    "# Prepare evaluation datasets\n",
    "test_eval, test_labels_eval = prepare_test_for_evaluation(test, test_labels)\n",
    "\n",
    "# Split training data\n",
    "X = train['comment_text'].values\n",
    "y = train[labels].values\n",
    "\n",
    "X_train, X_val, y_train, y_val = train_test_split(\n",
    "    X, y, test_size=0.1, random_state=42, stratify=y[:, 0]\n",
    ")\n",
    "\n",
    "print(f'Train size: {len(X_train)}')\n",
    "print(f'Validation size: {len(X_val)}')\n",
    "print(f'Test evaluation size: {len(test_eval)}')"
   ]
  },
  {
   "cell_type": "markdown",
   "id": "e9c617f2",
   "metadata": {},
   "source": [
    "## CREATE BALANCED EVALUATION SETS ##"
   ]
  },
  {
   "cell_type": "code",
   "execution_count": 20,
   "id": "4820a79e",
   "metadata": {},
   "outputs": [
    {
     "name": "stdout",
     "output_type": "stream",
     "text": [
      "Creating balanced subset with 150 samples per class...\n",
      "  toxic: 150/1529 samples\n",
      "  severe_toxic: 149/149 samples\n",
      "  obscene: 150/847 samples\n",
      "  threat: 50/50 samples\n",
      "  insult: 150/800 samples\n",
      "  identity_hate: 150/153 samples\n",
      "  neutral: 150/14355 samples\n",
      "Total balanced samples: 759\n",
      "\n",
      "Balanced validation set created\n",
      "Class distribution:\n",
      "  toxic: 584 samples\n",
      "  severe_toxic: 149 samples\n",
      "  obscene: 451 samples\n",
      "  threat: 50 samples\n",
      "  insult: 439 samples\n",
      "  identity_hate: 153 samples\n"
     ]
    }
   ],
   "source": [
    "# Create balanced evaluation sets\n",
    "np.random.seed(42)  # For reproducibility\n",
    "\n",
    "# Create balanced validation set\n",
    "val_df_temp = pd.DataFrame({'comment_text': X_val})\n",
    "val_df_temp[labels] = y_val\n",
    "balanced_val_df = create_balanced_subset(val_df_temp, labels, n_per_class=150)\n",
    "\n",
    "print('\\nBalanced validation set created')\n",
    "print('Class distribution:')\n",
    "for label in labels:\n",
    "    count = balanced_val_df[label].sum()\n",
    "    print(f'  {label}: {count} samples')"
   ]
  },
  {
   "cell_type": "markdown",
   "id": "cc1042d0",
   "metadata": {},
   "source": [
    "## TAGGING SYSTEM ##"
   ]
  },
  {
   "cell_type": "code",
   "execution_count": null,
   "id": "08d2f21c",
   "metadata": {},
   "outputs": [
    {
     "name": "stdout",
     "output_type": "stream",
     "text": [
      "Initialized ToxicCommentTagger with unitary/toxic-bert on cuda\n",
      "ToxicCommentTagger initialized successfully!\n"
     ]
    }
   ],
   "source": [
    "# Initialize the tagger\n",
    "tagger = ImprovedToxicCommentTagger(\n",
    "    base_model_name='unitary/toxic-bert',\n",
    "    device=str(device)\n",
    ")\n",
    "\n",
    "print('ImprovedToxicCommentTagger initialized successfully!')"
   ]
  },
  {
   "cell_type": "code",
   "execution_count": 22,
   "id": "07671745",
   "metadata": {},
   "outputs": [
    {
     "name": "stderr",
     "output_type": "stream",
     "text": [
      "2025/08/06 14:19:32 INFO mlflow.tracking.fluent: Experiment with name 'Toxic_BERT_Tagging_Methods' does not exist. Creating a new experiment.\n"
     ]
    },
    {
     "name": "stdout",
     "output_type": "stream",
     "text": [
      "Evaluating on 759 balanced samples\n",
      "Label distribution:\n",
      "  toxic: 584 positive samples\n",
      "  severe_toxic: 149 positive samples\n",
      "  obscene: 451 positive samples\n",
      "  threat: 50 positive samples\n",
      "  insult: 439 positive samples\n",
      "  identity_hate: 153 positive samples\n"
     ]
    }
   ],
   "source": [
    "# Set MLflow experiment\n",
    "mlflow.set_experiment('Toxic_BERT_Tagging_Methods')\n",
    "\n",
    "# Prepare evaluation data\n",
    "eval_texts = balanced_val_df['comment_text'].tolist()\n",
    "eval_labels = balanced_val_df[labels].values\n",
    "\n",
    "print(f'Evaluating on {len(eval_texts)} balanced samples')\n",
    "print(f'Label distribution:')\n",
    "for i, label in enumerate(labels):\n",
    "    pos_samples = eval_labels[:, i].sum()\n",
    "    print(f'  {label}: {pos_samples} positive samples')"
   ]
  },
  {
   "cell_type": "code",
   "execution_count": 23,
   "id": "b9e0384e",
   "metadata": {},
   "outputs": [],
   "source": [
    "# Define methods to evaluate\n",
    "methods_to_evaluate = [\n",
    "    'baseline',           # No tagging\n",
    "    'explicit_markers',   # Method 1\n",
    "    'intensity_tagging',  # Method 2\n",
    "    'target_tagging',     # Method 3\n",
    "    'linguistic_features',# Method 4\n",
    "    'semantic_context'    # Method 5\n",
    "]"
   ]
  },
  {
   "cell_type": "code",
   "execution_count": null,
   "id": "f228f48e",
   "metadata": {},
   "outputs": [],
   "source": [
    "# Métodos disponibles (más conservadores)\n",
    "improved_methods = [\n",
    "    'baseline',\n",
    "    'high_confidence_explicit',\n",
    "    'subtle_toxicity', \n",
    "    'contextual_amplification',\n",
    "    'threat_escalation',\n",
    "    'precision_targeting'\n",
    "]\n",
    "\n",
    "# Ejecuta la evaluación\n",
    "improved_results = tagger.compare_all_methods(\n",
    "    texts=eval_texts,\n",
    "    labels=eval_labels,\n",
    "    methods=improved_methods\n",
    ")"
   ]
  },
  {
   "cell_type": "code",
   "execution_count": 24,
   "id": "f025e268",
   "metadata": {},
   "outputs": [
    {
     "name": "stdout",
     "output_type": "stream",
     "text": [
      "\n",
      "================================================================================\n",
      "EVALUATING METHOD: BASELINE\n",
      "================================================================================\n",
      "\n",
      "============================================================\n",
      "EVALUATING TAGGING METHOD: BASELINE\n",
      "============================================================\n"
     ]
    },
    {
     "name": "stderr",
     "output_type": "stream",
     "text": [
      "Applying baseline: 100%|██████████| 759/759 [00:00<00:00, 758512.45it/s]"
     ]
    },
    {
     "name": "stdout",
     "output_type": "stream",
     "text": [
      "\n",
      "Example transformations:\n",
      "Original: \"\n",
      "\n",
      " You suck \n",
      "\n",
      "  The Dick Award I HATE YOU   \"\n",
      "Tagged:   \"\n",
      "\n",
      " You suck \n",
      "\n",
      "  The Dick Award I HATE YOU   \"\n",
      "\n",
      "Original: \"\n",
      "Just delete his posts and ignore him - don't be tendentious and ad homin - are all part of the wiki lawyers bullshit bible.   \"\n",
      "Tagged:   \"\n",
      "Just delete his posts and ignore him - don't be tendentious and ad homin - are all part of the wiki lawyers bullshit bible.   \"\n",
      "\n",
      "Original: takes it up the arse.  takes it up the arse.  takes it up the arse.  takes it up the arse.  takes it up the arse.  takes it up the arse.  takes it up the arse.  takes it up the arse.  takes it up the arse.  takes it up the arse.  takes it up the arse.  takes it up the arse.  takes it up the arse.  takes it up the arse.  takes it up the arse.  takes it up the arse.  takes it up the arse.  takes it up the arse.  takes it up the arse.  takes it up the arse.  takes it up the arse.  takes it up the arse.  takes it up the arse.  takes it up the arse.  takes it up the arse.  takes it up the arse.  takes it up the arse.  takes it up the arse.  takes it up the arse.  takes it up the arse.  takes it up the arse.  takes it up the arse.  takes it up the arse.  takes it up the arse.  takes it up the arse.  takes it up the arse.  takes it up the arse.  takes it up the arse.  takes it up the arse.  takes it up the arse.  takes it up the arse.  takes it up the arse.  takes it up the arse.  takes it up the arse.  takes it up the arse.  takes it up the arse.  takes it up the arse.  takes it up the arse.  takes it up the arse.  takes it up the arse.\n",
      "Tagged:   takes it up the arse.  takes it up the arse.  takes it up the arse.  takes it up the arse.  takes it up the arse.  takes it up the arse.  takes it up the arse.  takes it up the arse.  takes it up the arse.  takes it up the arse.  takes it up the arse.  takes it up the arse.  takes it up the arse.  takes it up the arse.  takes it up the arse.  takes it up the arse.  takes it up the arse.  takes it up the arse.  takes it up the arse.  takes it up the arse.  takes it up the arse.  takes it up the arse.  takes it up the arse.  takes it up the arse.  takes it up the arse.  takes it up the arse.  takes it up the arse.  takes it up the arse.  takes it up the arse.  takes it up the arse.  takes it up the arse.  takes it up the arse.  takes it up the arse.  takes it up the arse.  takes it up the arse.  takes it up the arse.  takes it up the arse.  takes it up the arse.  takes it up the arse.  takes it up the arse.  takes it up the arse.  takes it up the arse.  takes it up the arse.  takes it up the arse.  takes it up the arse.  takes it up the arse.  takes it up the arse.  takes it up the arse.  takes it up the arse.  takes it up the arse.\n",
      "\n"
     ]
    },
    {
     "name": "stderr",
     "output_type": "stream",
     "text": [
      "\n",
      "W0806 14:19:38.256000 11708 site-packages\\torch\\distributed\\elastic\\multiprocessing\\redirects.py:29] NOTE: Redirects are currently not supported in Windows or MacOs.\n",
      "Evaluating: 100%|██████████| 48/48 [00:25<00:00,  1.92it/s]\n"
     ]
    },
    {
     "name": "stdout",
     "output_type": "stream",
     "text": [
      "  toxic: 0.9811\n",
      "  severe_toxic: 0.8824\n",
      "  obscene: 0.9813\n",
      "  threat: 0.9687\n",
      "  insult: 0.9536\n",
      "  identity_hate: 0.9701\n",
      "  Mean AUC: 0.9562\n",
      "  Neutral accuracy: 0.9933\n",
      "  Neutral FP rate: 0.0067\n",
      "\n",
      "================================================================================\n",
      "EVALUATING METHOD: EXPLICIT_MARKERS\n",
      "================================================================================\n",
      "\n",
      "============================================================\n",
      "EVALUATING TAGGING METHOD: EXPLICIT_MARKERS\n",
      "============================================================\n"
     ]
    },
    {
     "name": "stderr",
     "output_type": "stream",
     "text": [
      "Applying explicit_markers: 100%|██████████| 759/759 [00:00<00:00, 4401.46it/s]\n"
     ]
    },
    {
     "name": "stdout",
     "output_type": "stream",
     "text": [
      "\n",
      "Example transformations:\n",
      "Original: \"\n",
      "\n",
      " You suck \n",
      "\n",
      "  The Dick Award I HATE YOU   \"\n",
      "Tagged:   [TOXIC][OBSCENE] \"\n",
      "\n",
      " You suck \n",
      "\n",
      "  The Dick Award I HATE YOU   \"\n",
      "\n",
      "Original: \"\n",
      "Just delete his posts and ignore him - don't be tendentious and ad homin - are all part of the wiki lawyers bullshit bible.   \"\n",
      "Tagged:   [NEUTRAL] \"\n",
      "Just delete his posts and ignore him - don't be tendentious and ad homin - are all part of the wiki lawyers bullshit bible.   \"\n",
      "\n",
      "Original: takes it up the arse.  takes it up the arse.  takes it up the arse.  takes it up the arse.  takes it up the arse.  takes it up the arse.  takes it up the arse.  takes it up the arse.  takes it up the arse.  takes it up the arse.  takes it up the arse.  takes it up the arse.  takes it up the arse.  takes it up the arse.  takes it up the arse.  takes it up the arse.  takes it up the arse.  takes it up the arse.  takes it up the arse.  takes it up the arse.  takes it up the arse.  takes it up the arse.  takes it up the arse.  takes it up the arse.  takes it up the arse.  takes it up the arse.  takes it up the arse.  takes it up the arse.  takes it up the arse.  takes it up the arse.  takes it up the arse.  takes it up the arse.  takes it up the arse.  takes it up the arse.  takes it up the arse.  takes it up the arse.  takes it up the arse.  takes it up the arse.  takes it up the arse.  takes it up the arse.  takes it up the arse.  takes it up the arse.  takes it up the arse.  takes it up the arse.  takes it up the arse.  takes it up the arse.  takes it up the arse.  takes it up the arse.  takes it up the arse.  takes it up the arse.\n",
      "Tagged:   [NEUTRAL] takes it up the arse.  takes it up the arse.  takes it up the arse.  takes it up the arse.  takes it up the arse.  takes it up the arse.  takes it up the arse.  takes it up the arse.  takes it up the arse.  takes it up the arse.  takes it up the arse.  takes it up the arse.  takes it up the arse.  takes it up the arse.  takes it up the arse.  takes it up the arse.  takes it up the arse.  takes it up the arse.  takes it up the arse.  takes it up the arse.  takes it up the arse.  takes it up the arse.  takes it up the arse.  takes it up the arse.  takes it up the arse.  takes it up the arse.  takes it up the arse.  takes it up the arse.  takes it up the arse.  takes it up the arse.  takes it up the arse.  takes it up the arse.  takes it up the arse.  takes it up the arse.  takes it up the arse.  takes it up the arse.  takes it up the arse.  takes it up the arse.  takes it up the arse.  takes it up the arse.  takes it up the arse.  takes it up the arse.  takes it up the arse.  takes it up the arse.  takes it up the arse.  takes it up the arse.  takes it up the arse.  takes it up the arse.  takes it up the arse.  takes it up the arse.\n",
      "\n"
     ]
    },
    {
     "name": "stderr",
     "output_type": "stream",
     "text": [
      "Evaluating: 100%|██████████| 48/48 [00:25<00:00,  1.90it/s]\n"
     ]
    },
    {
     "name": "stdout",
     "output_type": "stream",
     "text": [
      "  toxic: 0.9809\n",
      "  severe_toxic: 0.8803\n",
      "  obscene: 0.9775\n",
      "  threat: 0.9636\n",
      "  insult: 0.9474\n",
      "  identity_hate: 0.9670\n",
      "  Mean AUC: 0.9528\n",
      "  Neutral accuracy: 0.9933\n",
      "  Neutral FP rate: 0.0067\n",
      "\n",
      "================================================================================\n",
      "EVALUATING METHOD: INTENSITY_TAGGING\n",
      "================================================================================\n",
      "\n",
      "============================================================\n",
      "EVALUATING TAGGING METHOD: INTENSITY_TAGGING\n",
      "============================================================\n"
     ]
    },
    {
     "name": "stderr",
     "output_type": "stream",
     "text": [
      "Applying intensity_tagging: 100%|██████████| 759/759 [00:00<00:00, 11072.31it/s]\n"
     ]
    },
    {
     "name": "stdout",
     "output_type": "stream",
     "text": [
      "\n",
      "Example transformations:\n",
      "Original: \"\n",
      "\n",
      " You suck \n",
      "\n",
      "  The Dick Award I HATE YOU   \"\n",
      "Tagged:   [INTENSITY:LOW][CAPS:LIGHT][REPEAT:LIGHT] \"\n",
      "\n",
      " You suck \n",
      "\n",
      "  The Dick Award I HATE YOU   \"\n",
      "\n",
      "Original: \"\n",
      "Just delete his posts and ignore him - don't be tendentious and ad homin - are all part of the wiki lawyers bullshit bible.   \"\n",
      "Tagged:   [INTENSITY:LOW][REPEAT:LIGHT] \"\n",
      "Just delete his posts and ignore him - don't be tendentious and ad homin - are all part of the wiki lawyers bullshit bible.   \"\n",
      "\n",
      "Original: takes it up the arse.  takes it up the arse.  takes it up the arse.  takes it up the arse.  takes it up the arse.  takes it up the arse.  takes it up the arse.  takes it up the arse.  takes it up the arse.  takes it up the arse.  takes it up the arse.  takes it up the arse.  takes it up the arse.  takes it up the arse.  takes it up the arse.  takes it up the arse.  takes it up the arse.  takes it up the arse.  takes it up the arse.  takes it up the arse.  takes it up the arse.  takes it up the arse.  takes it up the arse.  takes it up the arse.  takes it up the arse.  takes it up the arse.  takes it up the arse.  takes it up the arse.  takes it up the arse.  takes it up the arse.  takes it up the arse.  takes it up the arse.  takes it up the arse.  takes it up the arse.  takes it up the arse.  takes it up the arse.  takes it up the arse.  takes it up the arse.  takes it up the arse.  takes it up the arse.  takes it up the arse.  takes it up the arse.  takes it up the arse.  takes it up the arse.  takes it up the arse.  takes it up the arse.  takes it up the arse.  takes it up the arse.  takes it up the arse.  takes it up the arse.\n",
      "Tagged:   [INTENSITY:NEUTRAL] takes it up the arse.  takes it up the arse.  takes it up the arse.  takes it up the arse.  takes it up the arse.  takes it up the arse.  takes it up the arse.  takes it up the arse.  takes it up the arse.  takes it up the arse.  takes it up the arse.  takes it up the arse.  takes it up the arse.  takes it up the arse.  takes it up the arse.  takes it up the arse.  takes it up the arse.  takes it up the arse.  takes it up the arse.  takes it up the arse.  takes it up the arse.  takes it up the arse.  takes it up the arse.  takes it up the arse.  takes it up the arse.  takes it up the arse.  takes it up the arse.  takes it up the arse.  takes it up the arse.  takes it up the arse.  takes it up the arse.  takes it up the arse.  takes it up the arse.  takes it up the arse.  takes it up the arse.  takes it up the arse.  takes it up the arse.  takes it up the arse.  takes it up the arse.  takes it up the arse.  takes it up the arse.  takes it up the arse.  takes it up the arse.  takes it up the arse.  takes it up the arse.  takes it up the arse.  takes it up the arse.  takes it up the arse.  takes it up the arse.  takes it up the arse.\n",
      "\n"
     ]
    },
    {
     "name": "stderr",
     "output_type": "stream",
     "text": [
      "Evaluating: 100%|██████████| 48/48 [00:25<00:00,  1.88it/s]\n"
     ]
    },
    {
     "name": "stdout",
     "output_type": "stream",
     "text": [
      "  toxic: 0.9788\n",
      "  severe_toxic: 0.8720\n",
      "  obscene: 0.9779\n",
      "  threat: 0.9658\n",
      "  insult: 0.9496\n",
      "  identity_hate: 0.9642\n",
      "  Mean AUC: 0.9514\n",
      "  Neutral accuracy: 0.9933\n",
      "  Neutral FP rate: 0.0067\n",
      "\n",
      "================================================================================\n",
      "EVALUATING METHOD: TARGET_TAGGING\n",
      "================================================================================\n",
      "\n",
      "============================================================\n",
      "EVALUATING TAGGING METHOD: TARGET_TAGGING\n",
      "============================================================\n"
     ]
    },
    {
     "name": "stderr",
     "output_type": "stream",
     "text": [
      "Applying target_tagging: 100%|██████████| 759/759 [00:00<00:00, 3414.82it/s]\n"
     ]
    },
    {
     "name": "stdout",
     "output_type": "stream",
     "text": [
      "\n",
      "Example transformations:\n",
      "Original: \"\n",
      "\n",
      " You suck \n",
      "\n",
      "  The Dick Award I HATE YOU   \"\n",
      "Tagged:   [TARGET:PERSON][DIRECTION:DIRECT] \"\n",
      "\n",
      " You suck \n",
      "\n",
      "  The Dick Award I HATE YOU   \"\n",
      "\n",
      "Original: \"\n",
      "Just delete his posts and ignore him - don't be tendentious and ad homin - are all part of the wiki lawyers bullshit bible.   \"\n",
      "Tagged:   [TARGET:PERSON] \"\n",
      "Just delete his posts and ignore him - don't be tendentious and ad homin - are all part of the wiki lawyers bullshit bible.   \"\n",
      "\n",
      "Original: takes it up the arse.  takes it up the arse.  takes it up the arse.  takes it up the arse.  takes it up the arse.  takes it up the arse.  takes it up the arse.  takes it up the arse.  takes it up the arse.  takes it up the arse.  takes it up the arse.  takes it up the arse.  takes it up the arse.  takes it up the arse.  takes it up the arse.  takes it up the arse.  takes it up the arse.  takes it up the arse.  takes it up the arse.  takes it up the arse.  takes it up the arse.  takes it up the arse.  takes it up the arse.  takes it up the arse.  takes it up the arse.  takes it up the arse.  takes it up the arse.  takes it up the arse.  takes it up the arse.  takes it up the arse.  takes it up the arse.  takes it up the arse.  takes it up the arse.  takes it up the arse.  takes it up the arse.  takes it up the arse.  takes it up the arse.  takes it up the arse.  takes it up the arse.  takes it up the arse.  takes it up the arse.  takes it up the arse.  takes it up the arse.  takes it up the arse.  takes it up the arse.  takes it up the arse.  takes it up the arse.  takes it up the arse.  takes it up the arse.  takes it up the arse.\n",
      "Tagged:   [TARGET:NONE] takes it up the arse.  takes it up the arse.  takes it up the arse.  takes it up the arse.  takes it up the arse.  takes it up the arse.  takes it up the arse.  takes it up the arse.  takes it up the arse.  takes it up the arse.  takes it up the arse.  takes it up the arse.  takes it up the arse.  takes it up the arse.  takes it up the arse.  takes it up the arse.  takes it up the arse.  takes it up the arse.  takes it up the arse.  takes it up the arse.  takes it up the arse.  takes it up the arse.  takes it up the arse.  takes it up the arse.  takes it up the arse.  takes it up the arse.  takes it up the arse.  takes it up the arse.  takes it up the arse.  takes it up the arse.  takes it up the arse.  takes it up the arse.  takes it up the arse.  takes it up the arse.  takes it up the arse.  takes it up the arse.  takes it up the arse.  takes it up the arse.  takes it up the arse.  takes it up the arse.  takes it up the arse.  takes it up the arse.  takes it up the arse.  takes it up the arse.  takes it up the arse.  takes it up the arse.  takes it up the arse.  takes it up the arse.  takes it up the arse.  takes it up the arse.\n",
      "\n"
     ]
    },
    {
     "name": "stderr",
     "output_type": "stream",
     "text": [
      "Evaluating: 100%|██████████| 48/48 [00:25<00:00,  1.91it/s]\n"
     ]
    },
    {
     "name": "stdout",
     "output_type": "stream",
     "text": [
      "  toxic: 0.9809\n",
      "  severe_toxic: 0.8715\n",
      "  obscene: 0.9748\n",
      "  threat: 0.9601\n",
      "  insult: 0.9453\n",
      "  identity_hate: 0.9660\n",
      "  Mean AUC: 0.9498\n",
      "  Neutral accuracy: 0.9933\n",
      "  Neutral FP rate: 0.0067\n",
      "\n",
      "================================================================================\n",
      "EVALUATING METHOD: LINGUISTIC_FEATURES\n",
      "================================================================================\n",
      "\n",
      "============================================================\n",
      "EVALUATING TAGGING METHOD: LINGUISTIC_FEATURES\n",
      "============================================================\n"
     ]
    },
    {
     "name": "stderr",
     "output_type": "stream",
     "text": [
      "Applying linguistic_features: 100%|██████████| 759/759 [00:00<00:00, 12865.34it/s]"
     ]
    },
    {
     "name": "stdout",
     "output_type": "stream",
     "text": [
      "\n",
      "Example transformations:\n",
      "Original: \"\n",
      "\n",
      " You suck \n",
      "\n",
      "  The Dick Award I HATE YOU   \"\n",
      "Tagged:   [LENGTH:MEDIUM] \"\n",
      "\n",
      " You suck \n",
      "\n",
      "  The Dick Award I HATE YOU   \"\n",
      "\n",
      "Original: \"\n",
      "Just delete his posts and ignore him - don't be tendentious and ad homin - are all part of the wiki lawyers bullshit bible.   \"\n",
      "Tagged:   [LENGTH:LONG][NEGATION:PRESENT] \"\n",
      "Just delete his posts and ignore him - don't be tendentious and ad homin - are all part of the wiki lawyers bullshit bible.   \"\n",
      "\n",
      "Original: takes it up the arse.  takes it up the arse.  takes it up the arse.  takes it up the arse.  takes it up the arse.  takes it up the arse.  takes it up the arse.  takes it up the arse.  takes it up the arse.  takes it up the arse.  takes it up the arse.  takes it up the arse.  takes it up the arse.  takes it up the arse.  takes it up the arse.  takes it up the arse.  takes it up the arse.  takes it up the arse.  takes it up the arse.  takes it up the arse.  takes it up the arse.  takes it up the arse.  takes it up the arse.  takes it up the arse.  takes it up the arse.  takes it up the arse.  takes it up the arse.  takes it up the arse.  takes it up the arse.  takes it up the arse.  takes it up the arse.  takes it up the arse.  takes it up the arse.  takes it up the arse.  takes it up the arse.  takes it up the arse.  takes it up the arse.  takes it up the arse.  takes it up the arse.  takes it up the arse.  takes it up the arse.  takes it up the arse.  takes it up the arse.  takes it up the arse.  takes it up the arse.  takes it up the arse.  takes it up the arse.  takes it up the arse.  takes it up the arse.  takes it up the arse.\n",
      "Tagged:   [LENGTH:LONG] takes it up the arse.  takes it up the arse.  takes it up the arse.  takes it up the arse.  takes it up the arse.  takes it up the arse.  takes it up the arse.  takes it up the arse.  takes it up the arse.  takes it up the arse.  takes it up the arse.  takes it up the arse.  takes it up the arse.  takes it up the arse.  takes it up the arse.  takes it up the arse.  takes it up the arse.  takes it up the arse.  takes it up the arse.  takes it up the arse.  takes it up the arse.  takes it up the arse.  takes it up the arse.  takes it up the arse.  takes it up the arse.  takes it up the arse.  takes it up the arse.  takes it up the arse.  takes it up the arse.  takes it up the arse.  takes it up the arse.  takes it up the arse.  takes it up the arse.  takes it up the arse.  takes it up the arse.  takes it up the arse.  takes it up the arse.  takes it up the arse.  takes it up the arse.  takes it up the arse.  takes it up the arse.  takes it up the arse.  takes it up the arse.  takes it up the arse.  takes it up the arse.  takes it up the arse.  takes it up the arse.  takes it up the arse.  takes it up the arse.  takes it up the arse.\n",
      "\n"
     ]
    },
    {
     "name": "stderr",
     "output_type": "stream",
     "text": [
      "\n",
      "Evaluating: 100%|██████████| 48/48 [00:25<00:00,  1.89it/s]\n"
     ]
    },
    {
     "name": "stdout",
     "output_type": "stream",
     "text": [
      "  toxic: 0.9789\n",
      "  severe_toxic: 0.8795\n",
      "  obscene: 0.9751\n",
      "  threat: 0.9621\n",
      "  insult: 0.9472\n",
      "  identity_hate: 0.9643\n",
      "  Mean AUC: 0.9512\n",
      "  Neutral accuracy: 0.9933\n",
      "  Neutral FP rate: 0.0067\n",
      "\n",
      "================================================================================\n",
      "EVALUATING METHOD: SEMANTIC_CONTEXT\n",
      "================================================================================\n",
      "\n",
      "============================================================\n",
      "EVALUATING TAGGING METHOD: SEMANTIC_CONTEXT\n",
      "============================================================\n"
     ]
    },
    {
     "name": "stderr",
     "output_type": "stream",
     "text": [
      "Applying semantic_context: 100%|██████████| 759/759 [00:00<00:00, 3793.42it/s]\n"
     ]
    },
    {
     "name": "stdout",
     "output_type": "stream",
     "text": [
      "\n",
      "Example transformations:\n",
      "Original: \"\n",
      "\n",
      " You suck \n",
      "\n",
      "  The Dick Award I HATE YOU   \"\n",
      "Tagged:   [EMOTION:ANGER][CONTEXT:GENERAL] \"\n",
      "\n",
      " You suck \n",
      "\n",
      "  The Dick Award I HATE YOU   \"\n",
      "\n",
      "Original: \"\n",
      "Just delete his posts and ignore him - don't be tendentious and ad homin - are all part of the wiki lawyers bullshit bible.   \"\n",
      "Tagged:   [EMOTION:DISMISSIVE][CONTEXT:GENERAL] \"\n",
      "Just delete his posts and ignore him - don't be tendentious and ad homin - are all part of the wiki lawyers bullshit bible.   \"\n",
      "\n",
      "Original: takes it up the arse.  takes it up the arse.  takes it up the arse.  takes it up the arse.  takes it up the arse.  takes it up the arse.  takes it up the arse.  takes it up the arse.  takes it up the arse.  takes it up the arse.  takes it up the arse.  takes it up the arse.  takes it up the arse.  takes it up the arse.  takes it up the arse.  takes it up the arse.  takes it up the arse.  takes it up the arse.  takes it up the arse.  takes it up the arse.  takes it up the arse.  takes it up the arse.  takes it up the arse.  takes it up the arse.  takes it up the arse.  takes it up the arse.  takes it up the arse.  takes it up the arse.  takes it up the arse.  takes it up the arse.  takes it up the arse.  takes it up the arse.  takes it up the arse.  takes it up the arse.  takes it up the arse.  takes it up the arse.  takes it up the arse.  takes it up the arse.  takes it up the arse.  takes it up the arse.  takes it up the arse.  takes it up the arse.  takes it up the arse.  takes it up the arse.  takes it up the arse.  takes it up the arse.  takes it up the arse.  takes it up the arse.  takes it up the arse.  takes it up the arse.\n",
      "Tagged:   [CONTEXT:GENERAL] takes it up the arse.  takes it up the arse.  takes it up the arse.  takes it up the arse.  takes it up the arse.  takes it up the arse.  takes it up the arse.  takes it up the arse.  takes it up the arse.  takes it up the arse.  takes it up the arse.  takes it up the arse.  takes it up the arse.  takes it up the arse.  takes it up the arse.  takes it up the arse.  takes it up the arse.  takes it up the arse.  takes it up the arse.  takes it up the arse.  takes it up the arse.  takes it up the arse.  takes it up the arse.  takes it up the arse.  takes it up the arse.  takes it up the arse.  takes it up the arse.  takes it up the arse.  takes it up the arse.  takes it up the arse.  takes it up the arse.  takes it up the arse.  takes it up the arse.  takes it up the arse.  takes it up the arse.  takes it up the arse.  takes it up the arse.  takes it up the arse.  takes it up the arse.  takes it up the arse.  takes it up the arse.  takes it up the arse.  takes it up the arse.  takes it up the arse.  takes it up the arse.  takes it up the arse.  takes it up the arse.  takes it up the arse.  takes it up the arse.  takes it up the arse.\n",
      "\n"
     ]
    },
    {
     "name": "stderr",
     "output_type": "stream",
     "text": [
      "Evaluating: 100%|██████████| 48/48 [00:24<00:00,  1.92it/s]"
     ]
    },
    {
     "name": "stdout",
     "output_type": "stream",
     "text": [
      "  toxic: 0.9797\n",
      "  severe_toxic: 0.8805\n",
      "  obscene: 0.9777\n",
      "  threat: 0.9628\n",
      "  insult: 0.9474\n",
      "  identity_hate: 0.9640\n",
      "  Mean AUC: 0.9520\n",
      "  Neutral accuracy: 0.9933\n",
      "  Neutral FP rate: 0.0067\n",
      "\n",
      "====================================================================================================\n",
      "TAGGING METHODS COMPARISON RESULTS\n",
      "====================================================================================================\n",
      "Method               Mean AUC     Neutral Acc  Neutral FP   Best Labels                   \n",
      "----------------------------------------------------------------------------------------------------\n",
      "baseline             0.9562       0.9933       0.0067       obscene                       \n",
      "explicit_markers     0.9528       0.9933       0.0067       toxic                         \n",
      "semantic_context     0.9520       0.9933       0.0067       toxic                         \n",
      "intensity_tagging    0.9514       0.9933       0.0067       toxic                         \n",
      "linguistic_features  0.9512       0.9933       0.0067       toxic                         \n",
      "target_tagging       0.9498       0.9933       0.0067       toxic                         \n",
      "\n",
      "Evaluation completed!\n"
     ]
    },
    {
     "name": "stderr",
     "output_type": "stream",
     "text": [
      "\n"
     ]
    }
   ],
   "source": [
    "# Run comparison\n",
    "results_df = tagger.compare_all_methods(\n",
    "    texts=eval_texts,\n",
    "    labels=eval_labels,\n",
    "    methods=methods_to_evaluate\n",
    ")\n",
    "\n",
    "print('\\nEvaluation completed!')"
   ]
  },
  {
   "cell_type": "markdown",
   "id": "725c91f1",
   "metadata": {},
   "source": [
    "## RESULT ##"
   ]
  },
  {
   "cell_type": "code",
   "execution_count": 25,
   "id": "ac7ca90f",
   "metadata": {},
   "outputs": [
    {
     "name": "stdout",
     "output_type": "stream",
     "text": [
      "DETAILED RESULTS ANALYSIS\n",
      "====================================================================================================\n",
      "\n",
      "OVERALL PERFORMANCE RANKING:\n",
      "--------------------------------------------------\n",
      "1. BASELINE             | AUC: 0.9562 | Neutral Acc: 0.993\n",
      "2. EXPLICIT_MARKERS     | AUC: 0.9528 (-0.35%) | Neutral Acc: 0.993\n",
      "3. SEMANTIC_CONTEXT     | AUC: 0.9520 (-0.44%) | Neutral Acc: 0.993\n",
      "4. INTENSITY_TAGGING    | AUC: 0.9514 (-0.50%) | Neutral Acc: 0.993\n",
      "5. LINGUISTIC_FEATURES  | AUC: 0.9512 (-0.52%) | Neutral Acc: 0.993\n",
      "6. TARGET_TAGGING       | AUC: 0.9498 (-0.67%) | Neutral Acc: 0.993\n",
      "\n",
      "PER-LABEL PERFORMANCE:\n",
      "--------------------------------------------------------------------------------\n",
      "\n",
      "TOXIC           | Best: baseline           (0.981) | Baseline: 0.981 | Improvement: +0.0%\n",
      "SEVERE_TOXIC    | Best: baseline           (0.882) | Baseline: 0.882 | Improvement: +0.0%\n",
      "OBSCENE         | Best: baseline           (0.981) | Baseline: 0.981 | Improvement: +0.0%\n",
      "THREAT          | Best: baseline           (0.969) | Baseline: 0.969 | Improvement: +0.0%\n",
      "INSULT          | Best: baseline           (0.954) | Baseline: 0.954 | Improvement: +0.0%\n",
      "IDENTITY_HATE   | Best: baseline           (0.970) | Baseline: 0.970 | Improvement: +0.0%\n"
     ]
    }
   ],
   "source": [
    "# Display detailed results\n",
    "print('DETAILED RESULTS ANALYSIS')\n",
    "print('=' * 100)\n",
    "print()\n",
    "\n",
    "# Sort by mean AUC\n",
    "results_sorted = results_df.sort_values('mean_auc', ascending=False)\n",
    "\n",
    "print('OVERALL PERFORMANCE RANKING:')\n",
    "print('-' * 50)\n",
    "for i, (_, row) in enumerate(results_sorted.iterrows(), 1):\n",
    "    improvement = ''\n",
    "    if row['method'] != 'baseline':\n",
    "        baseline_auc = results_df[results_df['method'] == 'baseline']['mean_auc'].iloc[0]\n",
    "        improvement_pct = ((row['mean_auc'] - baseline_auc) / baseline_auc) * 100\n",
    "        if improvement_pct > 0:\n",
    "            improvement = f' (+{improvement_pct:.2f}%)'\n",
    "        else:\n",
    "            improvement = f' ({improvement_pct:.2f}%)'\n",
    "    \n",
    "    print(f'{i}. {row[\"method\"].upper():20} | AUC: {row[\"mean_auc\"]:.4f}{improvement} | '\n",
    "          f'Neutral Acc: {row[\"neutral_accuracy\"]:.3f}')\n",
    "\n",
    "print('\\nPER-LABEL PERFORMANCE:')\n",
    "print('-' * 80)\n",
    "print()\n",
    "\n",
    "# Create a more detailed per-label analysis\n",
    "label_analysis = {}\n",
    "for label in labels:\n",
    "    label_col = f'auc_{label}'\n",
    "    if label_col in results_df.columns:\n",
    "        best_method = results_df.loc[results_df[label_col].idxmax(), 'method']\n",
    "        best_score = results_df[label_col].max()\n",
    "        baseline_score = results_df[results_df['method'] == 'baseline'][label_col].iloc[0]\n",
    "        improvement = ((best_score - baseline_score) / baseline_score) * 100\n",
    "        \n",
    "        label_analysis[label] = {\n",
    "            'best_method': best_method,\n",
    "            'best_score': best_score,\n",
    "            'baseline_score': baseline_score,\n",
    "            'improvement': improvement\n",
    "        }\n",
    "\n",
    "for label, analysis in label_analysis.items():\n",
    "    print(f'{label.upper():15} | Best: {analysis[\"best_method\"]:18} '\n",
    "          f'({analysis[\"best_score\"]:.3f}) | Baseline: {analysis[\"baseline_score\"]:.3f} '\n",
    "          f'| Improvement: {analysis[\"improvement\"]:+.1f}%')"
   ]
  },
  {
   "cell_type": "code",
   "execution_count": 26,
   "id": "306d0986",
   "metadata": {},
   "outputs": [
    {
     "data": {
      "image/png": "[encoded data removed]",
      "text/plain": [
       "<Figure size 1500x1200 with 5 Axes>"
      ]
     },
     "metadata": {},
     "output_type": "display_data"
    },
    {
     "name": "stdout",
     "output_type": "stream",
     "text": [
      "\n",
      "Visualization saved as tagging_methods_comparison.png\n"
     ]
    },
    {
     "data": {
      "text/plain": [
       "<Figure size 640x480 with 0 Axes>"
      ]
     },
     "metadata": {},
     "output_type": "display_data"
    }
   ],
   "source": [
    "# Create visualization of results\n",
    "fig, ((ax1, ax2), (ax3, ax4)) = plt.subplots(2, 2, figsize=(15, 12))\n",
    "\n",
    "# 1. Mean AUC comparison\n",
    "methods = results_df['method'].tolist()\n",
    "mean_aucs = results_df['mean_auc'].tolist()\n",
    "\n",
    "colors = ['red' if method == 'baseline' else 'skyblue' for method in methods]\n",
    "ax1.bar(range(len(methods)), mean_aucs, color=colors)\n",
    "ax1.set_xticks(range(len(methods)))\n",
    "ax1.set_xticklabels([m.replace('_', '\\n') for m in methods], rotation=45)\n",
    "ax1.set_ylabel('Mean AUC')\n",
    "ax1.set_title('Mean AUC by Tagging Method')\n",
    "ax1.grid(True, alpha=0.3)\n",
    "\n",
    "# 2. Neutral performance comparison\n",
    "neutral_accs = results_df['neutral_accuracy'].tolist()\n",
    "ax2.bar(range(len(methods)), neutral_accs, color=colors)\n",
    "ax2.set_xticks(range(len(methods)))\n",
    "ax2.set_xticklabels([m.replace('_', '\\n') for m in methods], rotation=45)\n",
    "ax2.set_ylabel('Neutral Accuracy')\n",
    "ax2.set_title('Neutral Comment Accuracy by Method')\n",
    "ax2.grid(True, alpha=0.3)\n",
    "\n",
    "# 3. Per-label heatmap\n",
    "label_data = []\n",
    "for _, row in results_df.iterrows():\n",
    "    label_scores = [row[f'auc_{label}'] for label in labels]\n",
    "    label_data.append(label_scores)\n",
    "\n",
    "sns.heatmap(label_data, \n",
    "            xticklabels=labels,\n",
    "            yticklabels=methods,\n",
    "            annot=True, \n",
    "            fmt='.3f',\n",
    "            cmap='RdYlBu_r',\n",
    "            ax=ax3)\n",
    "ax3.set_title('Per-Label AUC Scores')\n",
    "ax3.set_xlabel('Toxicity Labels')\n",
    "ax3.set_ylabel('Tagging Methods')\n",
    "\n",
    "# 4. Improvement over baseline\n",
    "baseline_auc = results_df[results_df['method'] == 'baseline']['mean_auc'].iloc[0]\n",
    "improvements = []\n",
    "method_names = []\n",
    "\n",
    "for _, row in results_df.iterrows():\n",
    "    if row['method'] != 'baseline':\n",
    "        improvement = ((row['mean_auc'] - baseline_auc) / baseline_auc) * 100\n",
    "        improvements.append(improvement)\n",
    "        method_names.append(row['method'])\n",
    "\n",
    "colors_imp = ['green' if imp > 0 else 'red' for imp in improvements]\n",
    "ax4.bar(range(len(method_names)), improvements, color=colors_imp)\n",
    "ax4.set_xticks(range(len(method_names)))\n",
    "ax4.set_xticklabels([m.replace('_', '\\n') for m in method_names], rotation=45)\n",
    "ax4.set_ylabel('Improvement over Baseline (%)')\n",
    "ax4.set_title('Relative Performance vs Baseline')\n",
    "ax4.axhline(y=0, color='black', linestyle='--', alpha=0.7)\n",
    "ax4.grid(True, alpha=0.3)\n",
    "\n",
    "plt.tight_layout()\n",
    "plt.show()\n",
    "\n",
    "# Save the plot\n",
    "plt.savefig('tagging_methods_comparison.png', dpi=300, bbox_inches='tight')\n",
    "print('\\nVisualization saved as tagging_methods_comparison.png')"
   ]
  },
  {
   "cell_type": "markdown",
   "id": "14b8d171",
   "metadata": {},
   "source": [
    "## BEST METHOD ANALYSIS ##"
   ]
  },
  {
   "cell_type": "code",
   "execution_count": 27,
   "id": "cd639837",
   "metadata": {},
   "outputs": [
    {
     "name": "stdout",
     "output_type": "stream",
     "text": [
      "BEST METHOD ANALYSIS\n",
      "============================================================\n",
      "Best Method: BASELINE\n",
      "Mean AUC: 0.9562\n",
      "Neutral Accuracy: 0.9933\n",
      "Neutral FP Rate: 0.0067\n",
      "\n",
      "PER-LABEL PERFORMANCE:\n",
      "  toxic          : 0.9811 (baseline: 0.9811, +0.0%)\n",
      "  severe_toxic   : 0.8824 (baseline: 0.8824, +0.0%)\n",
      "  obscene        : 0.9813 (baseline: 0.9813, +0.0%)\n",
      "  threat         : 0.9687 (baseline: 0.9687, +0.0%)\n",
      "  insult         : 0.9536 (baseline: 0.9536, +0.0%)\n",
      "  identity_hate  : 0.9701 (baseline: 0.9701, +0.0%)\n"
     ]
    }
   ],
   "source": [
    "# Identify and analyze the best method\n",
    "best_method_row = results_df.loc[results_df['mean_auc'].idxmax()]\n",
    "best_method_name = best_method_row['method']\n",
    "\n",
    "print('BEST METHOD ANALYSIS')\n",
    "print('=' * 60)\n",
    "print(f'Best Method: {best_method_name.upper()}')\n",
    "print(f'Mean AUC: {best_method_row[\"mean_auc\"]:.4f}')\n",
    "print(f'Neutral Accuracy: {best_method_row[\"neutral_accuracy\"]:.4f}')\n",
    "print(f'Neutral FP Rate: {best_method_row[\"neutral_fp_rate\"]:.4f}')\n",
    "\n",
    "# Calculate improvement over baseline\n",
    "baseline_metrics = results_df[results_df['method'] == 'baseline'].iloc[0]\n",
    "\n",
    "if best_method_name != 'baseline':\n",
    "    auc_improvement = ((best_method_row['mean_auc'] - baseline_metrics['mean_auc']) / \n",
    "                      baseline_metrics['mean_auc']) * 100\n",
    "    neutral_improvement = ((best_method_row['neutral_accuracy'] - baseline_metrics['neutral_accuracy']) / \n",
    "                          (baseline_metrics['neutral_accuracy'] + 1e-8)) * 100\n",
    "    \n",
    "    print(f'\\nIMPROVEMENT OVER BASELINE:')\n",
    "    print(f'AUC Improvement: {auc_improvement:+.2f}%')\n",
    "    print(f'Neutral Acc Improvement: {neutral_improvement:+.2f}%')\n",
    "\n",
    "print(f'\\nPER-LABEL PERFORMANCE:')\n",
    "for label in labels:\n",
    "    auc_col = f'auc_{label}'\n",
    "    if auc_col in results_df.columns:\n",
    "        best_score = best_method_row[auc_col]\n",
    "        baseline_score = baseline_metrics[auc_col]\n",
    "        improvement = ((best_score - baseline_score) / baseline_score) * 100\n",
    "        print(f'  {label:15}: {best_score:.4f} (baseline: {baseline_score:.4f}, {improvement:+.1f}%)')"
   ]
  },
  {
   "cell_type": "markdown",
   "id": "8b98162a",
   "metadata": {},
   "source": [
    "## PRESCINDIBLE? ##"
   ]
  },
  {
   "cell_type": "markdown",
   "id": "818d486f",
   "metadata": {},
   "source": []
  },
  {
   "cell_type": "code",
   "execution_count": 30,
   "id": "c69f5f1b",
   "metadata": {},
   "outputs": [
    {
     "name": "stdout",
     "output_type": "stream",
     "text": [
      "STATISTICAL SIGNIFICANCE ANALYSIS\n",
      "============================================================\n",
      "Framework for statistical testing:\n",
      "1. Collect individual sample predictions for each method\n",
      "2. Use McNemar's test for binary classification differences\n",
      "3. Use bootstrap confidence intervals for AUC differences\n",
      "4. Apply Bonferroni correction for multiple comparisons\n",
      "\n",
      "Effect sizes (standardized mean differences):\n",
      "  explicit_markers    : Cohen's d = -0.034 (small)\n",
      "  semantic_context    : Cohen's d = -0.042 (small)\n",
      "  intensity_tagging   : Cohen's d = -0.048 (small)\n",
      "  linguistic_features : Cohen's d = -0.050 (small)\n",
      "  target_tagging      : Cohen's d = -0.064 (small)\n",
      "COMPUTATIONAL COST ANALYSIS\n",
      "============================================================\n"
     ]
    },
    {
     "ename": "ZeroDivisionError",
     "evalue": "float division by zero",
     "output_type": "error",
     "traceback": [
      "\u001b[31m---------------------------------------------------------------------------\u001b[39m",
      "\u001b[31mZeroDivisionError\u001b[39m                         Traceback (most recent call last)",
      "\u001b[36mCell\u001b[39m\u001b[36m \u001b[39m\u001b[32mIn[30]\u001b[39m\u001b[32m, line 90\u001b[39m\n\u001b[32m     84\u001b[39m     total_time = end_time - start_time\n\u001b[32m     85\u001b[39m     time_per_text = total_time / \u001b[38;5;28mlen\u001b[39m(test_texts)\n\u001b[32m     87\u001b[39m     timing_results[method_name] = {\n\u001b[32m     88\u001b[39m         \u001b[33m'\u001b[39m\u001b[33mtotal_time\u001b[39m\u001b[33m'\u001b[39m: total_time,\n\u001b[32m     89\u001b[39m         \u001b[33m'\u001b[39m\u001b[33mtime_per_text\u001b[39m\u001b[33m'\u001b[39m: time_per_text,\n\u001b[32m---> \u001b[39m\u001b[32m90\u001b[39m         \u001b[33m'\u001b[39m\u001b[33mtexts_per_second\u001b[39m\u001b[33m'\u001b[39m: \u001b[38;5;28;43mlen\u001b[39;49m\u001b[43m(\u001b[49m\u001b[43mtest_texts\u001b[49m\u001b[43m)\u001b[49m\u001b[43m \u001b[49m\u001b[43m/\u001b[49m\u001b[43m \u001b[49m\u001b[43mtotal_time\u001b[49m\n\u001b[32m     91\u001b[39m     }\n\u001b[32m     93\u001b[39m \u001b[38;5;28mprint\u001b[39m(\u001b[33m'\u001b[39m\u001b[33mTagging Performance:\u001b[39m\u001b[33m'\u001b[39m)\n\u001b[32m     94\u001b[39m \u001b[38;5;28mprint\u001b[39m(\u001b[33mf\u001b[39m\u001b[33m'\u001b[39m\u001b[38;5;132;01m{\u001b[39;00m\u001b[33m\"\u001b[39m\u001b[33mMethod\u001b[39m\u001b[33m\"\u001b[39m\u001b[38;5;132;01m:\u001b[39;00m\u001b[33m<20\u001b[39m\u001b[38;5;132;01m}\u001b[39;00m\u001b[33m \u001b[39m\u001b[38;5;132;01m{\u001b[39;00m\u001b[33m\"\u001b[39m\u001b[33mTotal Time\u001b[39m\u001b[33m\"\u001b[39m\u001b[38;5;132;01m:\u001b[39;00m\u001b[33m<12\u001b[39m\u001b[38;5;132;01m}\u001b[39;00m\u001b[33m \u001b[39m\u001b[38;5;132;01m{\u001b[39;00m\u001b[33m\"\u001b[39m\u001b[33mPer Text\u001b[39m\u001b[33m\"\u001b[39m\u001b[38;5;132;01m:\u001b[39;00m\u001b[33m<12\u001b[39m\u001b[38;5;132;01m}\u001b[39;00m\u001b[33m \u001b[39m\u001b[38;5;132;01m{\u001b[39;00m\u001b[33m\"\u001b[39m\u001b[33mTexts/sec\u001b[39m\u001b[33m\"\u001b[39m\u001b[38;5;132;01m:\u001b[39;00m\u001b[33m<12\u001b[39m\u001b[38;5;132;01m}\u001b[39;00m\u001b[33m'\u001b[39m)\n",
      "\u001b[31mZeroDivisionError\u001b[39m: float division by zero"
     ]
    }
   ],
   "source": [
    "# =============================================================================\n",
    "# SHOW EXAMPLE TRANSFORMATIONS FROM BEST METHOD\n",
    "# =============================================================================\n",
    "\n",
    "# Show example transformations from the best method\n",
    "if best_method_name != 'baseline':\n",
    "    print(f'\\nEXAMPLE TRANSFORMATIONS FROM {best_method_name.upper()}:')\n",
    "    print('=' * 80)\n",
    "    \n",
    "    # Get some sample texts\n",
    "    sample_texts = eval_texts[:5]\n",
    "    \n",
    "    for i, text in enumerate(sample_texts):\n",
    "        print(f'\\nExample {i+1}:')\n",
    "        tagged_texts = tagger.apply_tagging_method([text], best_method_name)\n",
    "        print(f'Original: {text}')\n",
    "        print(f'Tagged:   {tagged_texts[0]}')\n",
    "        print('-' * 60)\n",
    "\n",
    "# =============================================================================\n",
    "# STATISTICAL SIGNIFICANCE TESTING\n",
    "# =============================================================================\n",
    "\n",
    "from scipy import stats\n",
    "\n",
    "# Statistical significance analysis\n",
    "print('STATISTICAL SIGNIFICANCE ANALYSIS')\n",
    "print('=' * 60)\n",
    "\n",
    "# Note: For proper statistical testing, we would need individual sample predictions\n",
    "# Here we provide a framework for when you have those predictions\n",
    "\n",
    "print('Framework for statistical testing:')\n",
    "print('1. Collect individual sample predictions for each method')\n",
    "print('2. Use McNemar\\'s test for binary classification differences')\n",
    "print('3. Use bootstrap confidence intervals for AUC differences')\n",
    "print('4. Apply Bonferroni correction for multiple comparisons')\n",
    "\n",
    "# Calculate effect sizes (Cohen's d approximation)\n",
    "baseline_auc = baseline_metrics['mean_auc']\n",
    "print(f'\\nEffect sizes (standardized mean differences):')\n",
    "for _, row in results_df.iterrows():\n",
    "    if row['method'] != 'baseline':\n",
    "        # Approximate effect size calculation\n",
    "        diff = row['mean_auc'] - baseline_auc\n",
    "        # Using pooled standard deviation approximation\n",
    "        pooled_std = 0.1  # Typical AUC std for this type of data\n",
    "        cohens_d = diff / pooled_std\n",
    "        \n",
    "        effect_size_interpretation = 'small' if abs(cohens_d) < 0.5 else 'medium' if abs(cohens_d) < 0.8 else 'large'\n",
    "        print(f'  {row[\"method\"]:20}: Cohen\\'s d = {cohens_d:.3f} ({effect_size_interpretation})')\n",
    "\n",
    "# =============================================================================\n",
    "# COMPUTATIONAL COST ANALYSIS\n",
    "# =============================================================================\n",
    "\n",
    "import time\n",
    "\n",
    "# Measure tagging overhead\n",
    "print('COMPUTATIONAL COST ANALYSIS')\n",
    "print('=' * 60)\n",
    "\n",
    "# Test on a sample of texts\n",
    "test_texts = eval_texts[:100]  # Use 100 samples for timing\n",
    "\n",
    "tagging_methods = {\n",
    "    'baseline': lambda x: x,\n",
    "    'explicit_markers': tagger.method_1_explicit_markers,\n",
    "    'intensity_tagging': tagger.method_2_intensity_tagging,\n",
    "    'target_tagging': tagger.method_3_target_tagging,\n",
    "    'linguistic_features': tagger.method_4_linguistic_features,\n",
    "    'semantic_context': tagger.method_5_semantic_context\n",
    "}\n",
    "\n",
    "timing_results = {}\n",
    "\n",
    "for method_name, method_func in tagging_methods.items():\n",
    "    start_time = time.time()\n",
    "    \n",
    "    for text in test_texts:\n",
    "        _ = method_func(text)\n",
    "    \n",
    "    end_time = time.time()\n",
    "    total_time = end_time - start_time\n",
    "    time_per_text = total_time / len(test_texts)\n",
    "    \n",
    "    timing_results[method_name] = {\n",
    "        'total_time': total_time,\n",
    "        'time_per_text': time_per_text,\n",
    "        'texts_per_second': len(test_texts) / total_time\n",
    "    }\n",
    "\n",
    "print('Tagging Performance:')\n",
    "print(f'{\"Method\":<20} {\"Total Time\":<12} {\"Per Text\":<12} {\"Texts/sec\":<12}')\n",
    "print('-' * 60)\n",
    "\n",
    "for method, times in timing_results.items():\n",
    "    print(f'{method:<20} {times[\"total_time\"]:<12.3f}s {times[\"time_per_text\"]:<12.6f}s '\n",
    "          f'{times[\"texts_per_second\"]:<12.1f}')\n",
    "\n",
    "# Calculate overhead\n",
    "baseline_time = timing_results['baseline']['time_per_text']\n",
    "print('\\nOverhead compared to baseline:')\n",
    "for method, times in timing_results.items():\n",
    "    if method != 'baseline':\n",
    "        overhead = ((times['time_per_text'] - baseline_time) / baseline_time) * 100\n",
    "        print(f'  {method:<20}: +{overhead:.1f}%')\n",
    "\n",
    "# =============================================================================\n",
    "# PERFORMANCE VS COST TRADE-OFF ANALYSIS\n",
    "# =============================================================================\n",
    "\n",
    "# Create performance vs cost analysis\n",
    "print('PERFORMANCE vs COST TRADE-OFF ANALYSIS')\n",
    "print('=' * 80)\n",
    "\n",
    "baseline_auc = baseline_metrics['mean_auc']\n",
    "baseline_time = timing_results['baseline']['time_per_text']\n",
    "\n",
    "tradeoff_data = []\n",
    "\n",
    "for _, row in results_df.iterrows():\n",
    "    method = row['method']\n",
    "    if method in timing_results:\n",
    "        auc_improvement = ((row['mean_auc'] - baseline_auc) / baseline_auc) * 100\n",
    "        time_overhead = ((timing_results[method]['time_per_text'] - baseline_time) / baseline_time) * 100\n",
    "        \n",
    "        if method != 'baseline':\n",
    "            efficiency_ratio = auc_improvement / (time_overhead + 1e-6)  # Avoid division by zero\n",
    "        else:\n",
    "            efficiency_ratio = 0\n",
    "        \n",
    "        tradeoff_data.append({\n",
    "            'method': method,\n",
    "            'auc_improvement': auc_improvement,\n",
    "            'time_overhead': time_overhead,\n",
    "            'efficiency_ratio': efficiency_ratio\n",
    "        })\n",
    "\n",
    "# Sort by efficiency ratio\n",
    "tradeoff_data = sorted(tradeoff_data, key=lambda x: x['efficiency_ratio'], reverse=True)\n",
    "\n",
    "print('Trade-off Analysis (Performance gain per unit computational cost):')\n",
    "print(f'{\"Method\":<20} {\"AUC Improv\":<12} {\"Time Overhead\":<15} {\"Efficiency\":<12}')\n",
    "print('-' * 70)\n",
    "\n",
    "for data in tradeoff_data:\n",
    "    if data['method'] != 'baseline':\n",
    "        print(f'{data[\"method\"]:<20} {data[\"auc_improvement\"]:<12.2f}% '\n",
    "              f'{data[\"time_overhead\"]:<15.1f}% {data[\"efficiency_ratio\"]:<12.3f}')\n",
    "\n",
    "# Recommendation\n",
    "best_efficiency = max(tradeoff_data, key=lambda x: x['efficiency_ratio'])\n",
    "print(f'\\nRECOMMENDATION:')\n",
    "print(f'Most efficient method: {best_efficiency[\"method\"].upper()}')\n",
    "print(f'  - Performance improvement: {best_efficiency[\"auc_improvement\"]:.2f}%')\n",
    "print(f'  - Computational overhead: {best_efficiency[\"time_overhead\"]:.1f}%')\n",
    "print(f'  - Efficiency ratio: {best_efficiency[\"efficiency_ratio\"]:.3f}')\n",
    "\n",
    "# =============================================================================\n",
    "# CREATE TRADE-OFF VISUALIZATION\n",
    "# =============================================================================\n",
    "\n",
    "# Create trade-off visualization\n",
    "fig, (ax1, ax2) = plt.subplots(1, 2, figsize=(15, 6))\n",
    "\n",
    "# Performance vs Cost scatter plot\n",
    "methods_plot = [d['method'] for d in tradeoff_data if d['method'] != 'baseline']\n",
    "auc_improvements = [d['auc_improvement'] for d in tradeoff_data if d['method'] != 'baseline']\n",
    "time_overheads = [d['time_overhead'] for d in tradeoff_data if d['method'] != 'baseline']\n",
    "\n",
    "scatter = ax1.scatter(time_overheads, auc_improvements, s=100, alpha=0.7)\n",
    "\n",
    "# Add method labels\n",
    "for i, method in enumerate(methods_plot):\n",
    "    ax1.annotate(method.replace('_', '\\n'), \n",
    "                (time_overheads[i], auc_improvements[i]),\n",
    "                xytext=(5, 5), textcoords='offset points',\n",
    "                fontsize=9, ha='left')\n",
    "\n",
    "ax1.set_xlabel('Computational Overhead (%)')\n",
    "ax1.set_ylabel('AUC Improvement (%)')\n",
    "ax1.set_title('Performance vs Computational Cost')\n",
    "ax1.grid(True, alpha=0.3)\n",
    "ax1.axhline(y=0, color='red', linestyle='--', alpha=0.5, label='No improvement')\n",
    "ax1.axvline(x=0, color='red', linestyle='--', alpha=0.5)\n",
    "ax1.legend()\n",
    "\n",
    "# Efficiency ratio bar plot\n",
    "efficiency_ratios = [d['efficiency_ratio'] for d in tradeoff_data if d['method'] != 'baseline']\n",
    "colors = ['green' if ratio > 0 else 'red' for ratio in efficiency_ratios]\n",
    "\n",
    "ax2.bar(range(len(methods_plot)), efficiency_ratios, color=colors, alpha=0.7)\n",
    "ax2.set_xticks(range(len(methods_plot)))\n",
    "ax2.set_xticklabels([m.replace('_', '\\n') for m in methods_plot], rotation=45)\n",
    "ax2.set_ylabel('Efficiency Ratio (Performance/Cost)')\n",
    "ax2.set_title('Method Efficiency Ranking')\n",
    "ax2.grid(True, alpha=0.3)\n",
    "ax2.axhline(y=0, color='black', linestyle='-', alpha=0.7)\n",
    "\n",
    "plt.tight_layout()\n",
    "plt.show()\n",
    "\n",
    "plt.savefig('performance_cost_tradeoff.png', dpi=300, bbox_inches='tight')\n",
    "print('Trade-off analysis saved as performance_cost_tradeoff.png')\n",
    "\n",
    "# =============================================================================\n",
    "# CONCLUSIONS AND RECOMMENDATIONS\n",
    "# =============================================================================\n",
    "\n",
    "print('=' * 100)\n",
    "print('FINAL CONCLUSIONS AND RECOMMENDATIONS')\n",
    "print('=' * 100)\n",
    "\n",
    "# Overall best method\n",
    "best_overall = results_df.loc[results_df['mean_auc'].idxmax()]\n",
    "best_efficiency = max(tradeoff_data, key=lambda x: x['efficiency_ratio'])\n",
    "\n",
    "print('1. PERFORMANCE SUMMARY:')\n",
    "print(f'   • Best overall performance: {best_overall[\"method\"].upper()}')\n",
    "print(f'     - Mean AUC: {best_overall[\"mean_auc\"]:.4f}')\n",
    "print(f'     - Neutral accuracy: {best_overall[\"neutral_accuracy\"]:.4f}')\n",
    "\n",
    "print(f'   • Most efficient method: {best_efficiency[\"method\"].upper()}')\n",
    "print(f'     - Performance/Cost ratio: {best_efficiency[\"efficiency_ratio\"]:.3f}')\n",
    "\n",
    "print('2. KEY FINDINGS:')\n",
    "\n",
    "# Calculate average improvements\n",
    "avg_improvement = results_df[results_df['method'] != 'baseline']['mean_auc'].mean() - baseline_metrics['mean_auc']\n",
    "best_improvement = best_overall['mean_auc'] - baseline_metrics['mean_auc']\n",
    "\n",
    "print(f'   • Average AUC improvement: {(avg_improvement/baseline_metrics[\"mean_auc\"])*100:.2f}%')\n",
    "print(f'   • Best AUC improvement: {(best_improvement/baseline_metrics[\"mean_auc\"])*100:.2f}%')\n",
    "\n",
    "# Find which labels benefit most\n",
    "best_label_improvements = {}\n",
    "for label in labels:\n",
    "    auc_col = f'auc_{label}'\n",
    "    if auc_col in results_df.columns:\n",
    "        best_score = results_df[auc_col].max()\n",
    "        baseline_score = baseline_metrics[auc_col]\n",
    "        improvement = ((best_score - baseline_score) / baseline_score) * 100\n",
    "        best_method_for_label = results_df.loc[results_df[auc_col].idxmax(), 'method']\n",
    "        best_label_improvements[label] = {\n",
    "            'improvement': improvement,\n",
    "            'method': best_method_for_label\n",
    "        }\n",
    "\n",
    "print('   • Best improvements by toxicity type:')\n",
    "for label, info in sorted(best_label_improvements.items(), \n",
    "                         key=lambda x: x[1]['improvement'], reverse=True):\n",
    "    print(f'     - {label}: {info[\"improvement\"]:+.1f}% ({info[\"method\"]})')\n",
    "\n",
    "print('3. PRODUCTION RECOMMENDATIONS:')\n",
    "\n",
    "if best_efficiency['auc_improvement'] > 1.0:  # If >1% improvement\n",
    "    print(f'   ✅ RECOMMENDED: Implement {best_efficiency[\"method\"].upper()}')\n",
    "    print(f'      Rationale: Best performance/cost ratio with {best_efficiency[\"auc_improvement\"]:.1f}% improvement')\n",
    "    print(f'      Cost: Only {best_efficiency[\"time_overhead\"]:.1f}% computational overhead')\n",
    "else:\n",
    "    print('   ⚠️  CAUTION: Limited performance gains observed')\n",
    "    print('      Consider alternative enhancement strategies')\n",
    "\n",
    "print('4. NEXT STEPS:')\n",
    "print('   • Test best method on larger validation set')\n",
    "print('   • Combine multiple tagging approaches')\n",
    "print('   • Fine-tune hyperparameters for best method')\n",
    "print('   • Consider ensemble methods')\n",
    "print('   • Evaluate on held-out test set')\n",
    "\n",
    "print('5. IMPLEMENTATION PRIORITY:')\n",
    "sorted_methods = sorted(tradeoff_data, key=lambda x: x['efficiency_ratio'], reverse=True)\n",
    "for i, method_data in enumerate(sorted_methods[:3], 1):\n",
    "    if method_data['method'] != 'baseline':\n",
    "        print(f'   {i}. {method_data[\"method\"].upper()} '\n",
    "              f'(+{method_data[\"auc_improvement\"]:.1f}% performance, '\n",
    "              f'+{method_data[\"time_overhead\"]:.1f}% cost)')\n",
    "\n",
    "print('=' * 100)\n",
    "\n"
   ]
  }
 ],
 "metadata": {
  "kernelspec": {
   "display_name": "toxic_py311",
   "language": "python",
   "name": "python3"
  },
  "language_info": {
   "codemirror_mode": {
    "name": "ipython",
    "version": 3
   },
   "file_extension": ".py",
   "mimetype": "text/x-python",
   "name": "python",
   "nbconvert_exporter": "python",
   "pygments_lexer": "ipython3",
   "version": "3.11.13"
  }
 },
 "nbformat": 4,
 "nbformat_minor": 5
}
