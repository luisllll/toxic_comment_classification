{
 "cells": [
  {
   "cell_type": "markdown",
   "id": "9e766994",
   "metadata": {},
   "source": [
    "Baseline model"
   ]
  },
  {
   "cell_type": "code",
   "execution_count": 6,
   "id": "2c054f2b",
   "metadata": {},
   "outputs": [
    {
     "name": "stdout",
     "output_type": "stream",
     "text": [
      "Using device: cuda\n",
      "Loading baseline tokenizer and model...\n",
      "Models loaded successfully!\n",
      "Loading MLflow model from: C:\\wd\\wd_demos\\toxic_comment_classification\\mlruns\\models\\toxic_bert_finetuned_tagged\n",
      "Using MLflow tokenizer\n",
      "MLflow model loaded successfully!\n"
     ]
    }
   ],
   "source": [
    "from toxic_comment_pipeline import create_toxic_pipeline, ToxicCommentPipeline\n",
    "\n",
    "# Create and use the pipeline\n",
    "pipeline = create_toxic_pipeline(\n",
    "    mlflow_model_path=r\"C:\\wd\\wd_demos\\toxic_comment_classification\\mlruns\\models\\toxic_bert_finetuned_tagged\"\n",
    ")\n",
    "# Test with different model types\n",
    "comment = \"You are completely wrong and stupid!\""
   ]
  },
  {
   "cell_type": "code",
   "execution_count": 7,
   "id": "c41a21be",
   "metadata": {},
   "outputs": [],
   "source": [
    "# MLflow model with tagging\n",
    "mlflow_tagged_result = pipeline.predict_single(comment, 'mlflow_tagged')"
   ]
  },
  {
   "cell_type": "code",
   "execution_count": 8,
   "id": "20519a29",
   "metadata": {},
   "outputs": [
    {
     "name": "stdout",
     "output_type": "stream",
     "text": [
      "{'toxic': 0.98965174, 'severe_toxic': 0.03556526, 'obscene': 0.697958, 'threat': 0.0014586999, 'insult': 0.9477727, 'identity_hate': 0.012292805}\n"
     ]
    }
   ],
   "source": [
    "print(mlflow_tagged_result)"
   ]
  },
  {
   "cell_type": "markdown",
   "id": "33529a48",
   "metadata": {},
   "source": []
  }
 ],
 "metadata": {
  "kernelspec": {
   "display_name": "toxic_py311",
   "language": "python",
   "name": "python3"
  },
  "language_info": {
   "codemirror_mode": {
    "name": "ipython",
    "version": 3
   },
   "file_extension": ".py",
   "mimetype": "text/x-python",
   "name": "python",
   "nbconvert_exporter": "python",
   "pygments_lexer": "ipython3",
   "version": "3.11.13"
  }
 },
 "nbformat": 4,
 "nbformat_minor": 5
}
